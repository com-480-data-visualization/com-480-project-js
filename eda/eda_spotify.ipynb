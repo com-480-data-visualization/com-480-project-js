{
 "cells": [
  {
   "cell_type": "code",
   "execution_count": 1,
   "metadata": {},
   "outputs": [],
   "source": [
    "import pandas as pd\n",
    "import seaborn as sns"
   ]
  },
  {
   "cell_type": "code",
   "execution_count": 2,
   "metadata": {},
   "outputs": [],
   "source": [
    "DATA_PATH = '../data/'"
   ]
  },
  {
   "cell_type": "markdown",
   "metadata": {},
   "source": [
    "# Loading the data"
   ]
  },
  {
   "cell_type": "code",
   "execution_count": 3,
   "metadata": {},
   "outputs": [],
   "source": [
    "tracks_df = pd.read_pickle(DATA_PATH + 'michael_jackson_tracks.pickle')\n",
    "analysis_df = pd.read_pickle(DATA_PATH + 'michael_jackson_tracks_analysis.pickle')"
   ]
  },
  {
   "cell_type": "code",
   "execution_count": 4,
   "metadata": {},
   "outputs": [
    {
     "data": {
      "text/html": [
       "<div>\n",
       "<style scoped>\n",
       "    .dataframe tbody tr th:only-of-type {\n",
       "        vertical-align: middle;\n",
       "    }\n",
       "\n",
       "    .dataframe tbody tr th {\n",
       "        vertical-align: top;\n",
       "    }\n",
       "\n",
       "    .dataframe thead th {\n",
       "        text-align: right;\n",
       "    }\n",
       "</style>\n",
       "<table border=\"1\" class=\"dataframe\">\n",
       "  <thead>\n",
       "    <tr style=\"text-align: right;\">\n",
       "      <th></th>\n",
       "      <th>name_track</th>\n",
       "      <th>duration_ms</th>\n",
       "      <th>explicit</th>\n",
       "      <th>artists_track</th>\n",
       "      <th>artists_track_uri</th>\n",
       "      <th>featuring</th>\n",
       "      <th>track_number</th>\n",
       "      <th>disc_number</th>\n",
       "      <th>name_album</th>\n",
       "      <th>artists_album</th>\n",
       "      <th>...</th>\n",
       "      <th>key</th>\n",
       "      <th>loudness</th>\n",
       "      <th>mode</th>\n",
       "      <th>speechiness</th>\n",
       "      <th>acousticness</th>\n",
       "      <th>instrumentalness</th>\n",
       "      <th>liveness</th>\n",
       "      <th>valence</th>\n",
       "      <th>tempo</th>\n",
       "      <th>time_signature</th>\n",
       "    </tr>\n",
       "  </thead>\n",
       "  <tbody>\n",
       "    <tr>\n",
       "      <td>0</td>\n",
       "      <td>This Place Hotel (a.k.a. Heartbreak Hotel)</td>\n",
       "      <td>343413</td>\n",
       "      <td>False</td>\n",
       "      <td>[The Jacksons]</td>\n",
       "      <td>[spotify:artist:2yrbLiuBmc9j81lTX3XUuI]</td>\n",
       "      <td>False</td>\n",
       "      <td>1</td>\n",
       "      <td>1</td>\n",
       "      <td>Scream</td>\n",
       "      <td>[{'external_urls': {'spotify': 'https://open.s...</td>\n",
       "      <td>...</td>\n",
       "      <td>4</td>\n",
       "      <td>-4.085</td>\n",
       "      <td>0</td>\n",
       "      <td>0.1030</td>\n",
       "      <td>0.2430</td>\n",
       "      <td>0.000142</td>\n",
       "      <td>0.1170</td>\n",
       "      <td>0.582</td>\n",
       "      <td>97.005</td>\n",
       "      <td>4</td>\n",
       "    </tr>\n",
       "    <tr>\n",
       "      <td>1</td>\n",
       "      <td>Thriller</td>\n",
       "      <td>358053</td>\n",
       "      <td>False</td>\n",
       "      <td>[Michael Jackson]</td>\n",
       "      <td>[spotify:artist:3fMbdgg4jU18AjLCKBhRSm]</td>\n",
       "      <td>False</td>\n",
       "      <td>2</td>\n",
       "      <td>1</td>\n",
       "      <td>Scream</td>\n",
       "      <td>[{'external_urls': {'spotify': 'https://open.s...</td>\n",
       "      <td>...</td>\n",
       "      <td>11</td>\n",
       "      <td>-3.725</td>\n",
       "      <td>1</td>\n",
       "      <td>0.0738</td>\n",
       "      <td>0.0816</td>\n",
       "      <td>0.000108</td>\n",
       "      <td>0.8470</td>\n",
       "      <td>0.721</td>\n",
       "      <td>118.421</td>\n",
       "      <td>4</td>\n",
       "    </tr>\n",
       "    <tr>\n",
       "      <td>2</td>\n",
       "      <td>Blood on the Dance Floor</td>\n",
       "      <td>253373</td>\n",
       "      <td>False</td>\n",
       "      <td>[Michael Jackson]</td>\n",
       "      <td>[spotify:artist:3fMbdgg4jU18AjLCKBhRSm]</td>\n",
       "      <td>False</td>\n",
       "      <td>3</td>\n",
       "      <td>1</td>\n",
       "      <td>Scream</td>\n",
       "      <td>[{'external_urls': {'spotify': 'https://open.s...</td>\n",
       "      <td>...</td>\n",
       "      <td>1</td>\n",
       "      <td>-2.767</td>\n",
       "      <td>1</td>\n",
       "      <td>0.0764</td>\n",
       "      <td>0.0148</td>\n",
       "      <td>0.009780</td>\n",
       "      <td>0.0623</td>\n",
       "      <td>0.520</td>\n",
       "      <td>108.980</td>\n",
       "      <td>4</td>\n",
       "    </tr>\n",
       "    <tr>\n",
       "      <td>3</td>\n",
       "      <td>Somebody's Watching Me - Single Version</td>\n",
       "      <td>237760</td>\n",
       "      <td>False</td>\n",
       "      <td>[Rockwell]</td>\n",
       "      <td>[spotify:artist:3xs0LEzcPXtgNfMNcHzLIP]</td>\n",
       "      <td>False</td>\n",
       "      <td>4</td>\n",
       "      <td>1</td>\n",
       "      <td>Scream</td>\n",
       "      <td>[{'external_urls': {'spotify': 'https://open.s...</td>\n",
       "      <td>...</td>\n",
       "      <td>1</td>\n",
       "      <td>-4.128</td>\n",
       "      <td>0</td>\n",
       "      <td>0.0324</td>\n",
       "      <td>0.0409</td>\n",
       "      <td>0.000081</td>\n",
       "      <td>0.1320</td>\n",
       "      <td>0.804</td>\n",
       "      <td>124.091</td>\n",
       "      <td>4</td>\n",
       "    </tr>\n",
       "    <tr>\n",
       "      <td>4</td>\n",
       "      <td>Dirty Diana - 2012 Remaster</td>\n",
       "      <td>280946</td>\n",
       "      <td>False</td>\n",
       "      <td>[Michael Jackson]</td>\n",
       "      <td>[spotify:artist:3fMbdgg4jU18AjLCKBhRSm]</td>\n",
       "      <td>False</td>\n",
       "      <td>5</td>\n",
       "      <td>1</td>\n",
       "      <td>Scream</td>\n",
       "      <td>[{'external_urls': {'spotify': 'https://open.s...</td>\n",
       "      <td>...</td>\n",
       "      <td>3</td>\n",
       "      <td>-4.525</td>\n",
       "      <td>1</td>\n",
       "      <td>0.0437</td>\n",
       "      <td>0.1780</td>\n",
       "      <td>0.000401</td>\n",
       "      <td>0.3240</td>\n",
       "      <td>0.331</td>\n",
       "      <td>131.424</td>\n",
       "      <td>4</td>\n",
       "    </tr>\n",
       "  </tbody>\n",
       "</table>\n",
       "<p>5 rows × 25 columns</p>\n",
       "</div>"
      ],
      "text/plain": [
       "                                   name_track  duration_ms  explicit  \\\n",
       "0  This Place Hotel (a.k.a. Heartbreak Hotel)       343413     False   \n",
       "1                                    Thriller       358053     False   \n",
       "2                    Blood on the Dance Floor       253373     False   \n",
       "3     Somebody's Watching Me - Single Version       237760     False   \n",
       "4                 Dirty Diana - 2012 Remaster       280946     False   \n",
       "\n",
       "       artists_track                        artists_track_uri  featuring  \\\n",
       "0     [The Jacksons]  [spotify:artist:2yrbLiuBmc9j81lTX3XUuI]      False   \n",
       "1  [Michael Jackson]  [spotify:artist:3fMbdgg4jU18AjLCKBhRSm]      False   \n",
       "2  [Michael Jackson]  [spotify:artist:3fMbdgg4jU18AjLCKBhRSm]      False   \n",
       "3         [Rockwell]  [spotify:artist:3xs0LEzcPXtgNfMNcHzLIP]      False   \n",
       "4  [Michael Jackson]  [spotify:artist:3fMbdgg4jU18AjLCKBhRSm]      False   \n",
       "\n",
       "   track_number  disc_number name_album  \\\n",
       "0             1            1     Scream   \n",
       "1             2            1     Scream   \n",
       "2             3            1     Scream   \n",
       "3             4            1     Scream   \n",
       "4             5            1     Scream   \n",
       "\n",
       "                                       artists_album  ...  key loudness mode  \\\n",
       "0  [{'external_urls': {'spotify': 'https://open.s...  ...    4   -4.085    0   \n",
       "1  [{'external_urls': {'spotify': 'https://open.s...  ...   11   -3.725    1   \n",
       "2  [{'external_urls': {'spotify': 'https://open.s...  ...    1   -2.767    1   \n",
       "3  [{'external_urls': {'spotify': 'https://open.s...  ...    1   -4.128    0   \n",
       "4  [{'external_urls': {'spotify': 'https://open.s...  ...    3   -4.525    1   \n",
       "\n",
       "   speechiness  acousticness  instrumentalness  liveness  valence    tempo  \\\n",
       "0       0.1030        0.2430          0.000142    0.1170    0.582   97.005   \n",
       "1       0.0738        0.0816          0.000108    0.8470    0.721  118.421   \n",
       "2       0.0764        0.0148          0.009780    0.0623    0.520  108.980   \n",
       "3       0.0324        0.0409          0.000081    0.1320    0.804  124.091   \n",
       "4       0.0437        0.1780          0.000401    0.3240    0.331  131.424   \n",
       "\n",
       "   time_signature  \n",
       "0               4  \n",
       "1               4  \n",
       "2               4  \n",
       "3               4  \n",
       "4               4  \n",
       "\n",
       "[5 rows x 25 columns]"
      ]
     },
     "execution_count": 4,
     "metadata": {},
     "output_type": "execute_result"
    }
   ],
   "source": [
    "tracks_df.head()"
   ]
  },
  {
   "cell_type": "code",
   "execution_count": 16,
   "metadata": {},
   "outputs": [
    {
     "data": {
      "text/html": [
       "<div>\n",
       "<style scoped>\n",
       "    .dataframe tbody tr th:only-of-type {\n",
       "        vertical-align: middle;\n",
       "    }\n",
       "\n",
       "    .dataframe tbody tr th {\n",
       "        vertical-align: top;\n",
       "    }\n",
       "\n",
       "    .dataframe thead th {\n",
       "        text-align: right;\n",
       "    }\n",
       "</style>\n",
       "<table border=\"1\" class=\"dataframe\">\n",
       "  <thead>\n",
       "    <tr style=\"text-align: right;\">\n",
       "      <th></th>\n",
       "      <th>meta</th>\n",
       "      <th>track</th>\n",
       "      <th>bars</th>\n",
       "      <th>beats</th>\n",
       "      <th>tatums</th>\n",
       "      <th>sections</th>\n",
       "      <th>segments</th>\n",
       "      <th>uri</th>\n",
       "    </tr>\n",
       "  </thead>\n",
       "  <tbody>\n",
       "    <tr>\n",
       "      <td>0</td>\n",
       "      <td>{'analyzer_version': '4.0.0', 'platform': 'Lin...</td>\n",
       "      <td>{'num_samples': 7572264, 'duration': 343.41333...</td>\n",
       "      <td>[{'start': 2.77178, 'duration': 2.39216, 'conf...</td>\n",
       "      <td>[{'start': 0.94698, 'duration': 0.62592, 'conf...</td>\n",
       "      <td>[{'start': 0.94698, 'duration': 0.31296, 'conf...</td>\n",
       "      <td>[{'start': 0.0, 'duration': 15.08662, 'confide...</td>\n",
       "      <td>[{'start': 0.0, 'duration': 0.21605, 'confiden...</td>\n",
       "      <td>spotify:track:2BU4dK1fu1CFLjTBz7ju7Q</td>\n",
       "    </tr>\n",
       "    <tr>\n",
       "      <td>1</td>\n",
       "      <td>{'analyzer_version': '4.0.0', 'platform': 'Lin...</td>\n",
       "      <td>{'num_samples': 7895076, 'duration': 358.05333...</td>\n",
       "      <td>[{'start': 0.44776, 'duration': 1.97357, 'conf...</td>\n",
       "      <td>[{'start': 0.44776, 'duration': 0.48946, 'conf...</td>\n",
       "      <td>[{'start': 0.44776, 'duration': 0.24473, 'conf...</td>\n",
       "      <td>[{'start': 0.0, 'duration': 18.33347, 'confide...</td>\n",
       "      <td>[{'start': 0.0, 'duration': 0.18485, 'confiden...</td>\n",
       "      <td>spotify:track:7azo4rpSUh8nXgtonC6Pkq</td>\n",
       "    </tr>\n",
       "    <tr>\n",
       "      <td>2</td>\n",
       "      <td>{'analyzer_version': '4.0.0', 'platform': 'Lin...</td>\n",
       "      <td>{'num_samples': 5586882, 'duration': 253.37333...</td>\n",
       "      <td>[{'start': 0.12478, 'duration': 2.20566, 'conf...</td>\n",
       "      <td>[{'start': 0.12478, 'duration': 0.55169, 'conf...</td>\n",
       "      <td>[{'start': 0.12478, 'duration': 0.27585, 'conf...</td>\n",
       "      <td>[{'start': 0.0, 'duration': 18.8512, 'confiden...</td>\n",
       "      <td>[{'start': 0.0, 'duration': 0.10431, 'confiden...</td>\n",
       "      <td>spotify:track:0QgsvILuE9VQiAVsLStD3W</td>\n",
       "    </tr>\n",
       "    <tr>\n",
       "      <td>3</td>\n",
       "      <td>{'analyzer_version': '4.0.0', 'platform': 'Lin...</td>\n",
       "      <td>{'num_samples': 5242608, 'duration': 237.76, '...</td>\n",
       "      <td>[{'start': 1.0966, 'duration': 1.93872, 'confi...</td>\n",
       "      <td>[{'start': 0.12311, 'duration': 0.48341, 'conf...</td>\n",
       "      <td>[{'start': 0.12311, 'duration': 0.24171, 'conf...</td>\n",
       "      <td>[{'start': 0.0, 'duration': 4.00048, 'confiden...</td>\n",
       "      <td>[{'start': 0.0, 'duration': 0.09279, 'confiden...</td>\n",
       "      <td>spotify:track:6A4Jc8npNo79BOgsrPptLA</td>\n",
       "    </tr>\n",
       "    <tr>\n",
       "      <td>4</td>\n",
       "      <td>{'analyzer_version': '4.0.0', 'platform': 'Lin...</td>\n",
       "      <td>{'num_samples': 6194874, 'duration': 280.94667...</td>\n",
       "      <td>[{'start': 1.45902, 'duration': 1.84623, 'conf...</td>\n",
       "      <td>[{'start': 0.12966, 'duration': 0.4463, 'confi...</td>\n",
       "      <td>[{'start': 0.12966, 'duration': 0.22315, 'conf...</td>\n",
       "      <td>[{'start': 0.0, 'duration': 12.38671, 'confide...</td>\n",
       "      <td>[{'start': 0.0, 'duration': 0.09465, 'confiden...</td>\n",
       "      <td>spotify:track:4FC7GMnGwYeAjuvC83Srbs</td>\n",
       "    </tr>\n",
       "  </tbody>\n",
       "</table>\n",
       "</div>"
      ],
      "text/plain": [
       "                                                meta  \\\n",
       "0  {'analyzer_version': '4.0.0', 'platform': 'Lin...   \n",
       "1  {'analyzer_version': '4.0.0', 'platform': 'Lin...   \n",
       "2  {'analyzer_version': '4.0.0', 'platform': 'Lin...   \n",
       "3  {'analyzer_version': '4.0.0', 'platform': 'Lin...   \n",
       "4  {'analyzer_version': '4.0.0', 'platform': 'Lin...   \n",
       "\n",
       "                                               track  \\\n",
       "0  {'num_samples': 7572264, 'duration': 343.41333...   \n",
       "1  {'num_samples': 7895076, 'duration': 358.05333...   \n",
       "2  {'num_samples': 5586882, 'duration': 253.37333...   \n",
       "3  {'num_samples': 5242608, 'duration': 237.76, '...   \n",
       "4  {'num_samples': 6194874, 'duration': 280.94667...   \n",
       "\n",
       "                                                bars  \\\n",
       "0  [{'start': 2.77178, 'duration': 2.39216, 'conf...   \n",
       "1  [{'start': 0.44776, 'duration': 1.97357, 'conf...   \n",
       "2  [{'start': 0.12478, 'duration': 2.20566, 'conf...   \n",
       "3  [{'start': 1.0966, 'duration': 1.93872, 'confi...   \n",
       "4  [{'start': 1.45902, 'duration': 1.84623, 'conf...   \n",
       "\n",
       "                                               beats  \\\n",
       "0  [{'start': 0.94698, 'duration': 0.62592, 'conf...   \n",
       "1  [{'start': 0.44776, 'duration': 0.48946, 'conf...   \n",
       "2  [{'start': 0.12478, 'duration': 0.55169, 'conf...   \n",
       "3  [{'start': 0.12311, 'duration': 0.48341, 'conf...   \n",
       "4  [{'start': 0.12966, 'duration': 0.4463, 'confi...   \n",
       "\n",
       "                                              tatums  \\\n",
       "0  [{'start': 0.94698, 'duration': 0.31296, 'conf...   \n",
       "1  [{'start': 0.44776, 'duration': 0.24473, 'conf...   \n",
       "2  [{'start': 0.12478, 'duration': 0.27585, 'conf...   \n",
       "3  [{'start': 0.12311, 'duration': 0.24171, 'conf...   \n",
       "4  [{'start': 0.12966, 'duration': 0.22315, 'conf...   \n",
       "\n",
       "                                            sections  \\\n",
       "0  [{'start': 0.0, 'duration': 15.08662, 'confide...   \n",
       "1  [{'start': 0.0, 'duration': 18.33347, 'confide...   \n",
       "2  [{'start': 0.0, 'duration': 18.8512, 'confiden...   \n",
       "3  [{'start': 0.0, 'duration': 4.00048, 'confiden...   \n",
       "4  [{'start': 0.0, 'duration': 12.38671, 'confide...   \n",
       "\n",
       "                                            segments  \\\n",
       "0  [{'start': 0.0, 'duration': 0.21605, 'confiden...   \n",
       "1  [{'start': 0.0, 'duration': 0.18485, 'confiden...   \n",
       "2  [{'start': 0.0, 'duration': 0.10431, 'confiden...   \n",
       "3  [{'start': 0.0, 'duration': 0.09279, 'confiden...   \n",
       "4  [{'start': 0.0, 'duration': 0.09465, 'confiden...   \n",
       "\n",
       "                                    uri  \n",
       "0  spotify:track:2BU4dK1fu1CFLjTBz7ju7Q  \n",
       "1  spotify:track:7azo4rpSUh8nXgtonC6Pkq  \n",
       "2  spotify:track:0QgsvILuE9VQiAVsLStD3W  \n",
       "3  spotify:track:6A4Jc8npNo79BOgsrPptLA  \n",
       "4  spotify:track:4FC7GMnGwYeAjuvC83Srbs  "
      ]
     },
     "execution_count": 16,
     "metadata": {},
     "output_type": "execute_result"
    }
   ],
   "source": [
    "analysis_df.head()"
   ]
  },
  {
   "cell_type": "markdown",
   "metadata": {},
   "source": [
    "# Primary analysis"
   ]
  },
  {
   "cell_type": "code",
   "execution_count": 20,
   "metadata": {},
   "outputs": [
    {
     "data": {
      "image/png": "[encoded data removed]",
      "text/plain": [
       "<Figure size 432x288 with 1 Axes>"
      ]
     },
     "metadata": {
      "needs_background": "light"
     },
     "output_type": "display_data"
    },
    {
     "data": {
      "image/png": "[encoded data removed]",
      "text/plain": [
       "<Figure size 432x288 with 1 Axes>"
      ]
     },
     "metadata": {
      "needs_background": "light"
     },
     "output_type": "display_data"
    },
    {
     "data": {
      "image/png": "[encoded data removed]",
      "text/plain": [
       "<Figure size 432x288 with 1 Axes>"
      ]
     },
     "metadata": {
      "needs_background": "light"
     },
     "output_type": "display_data"
    },
    {
     "data": {
      "image/png": "[encoded data removed]",
      "text/plain": [
       "<Figure size 432x288 with 1 Axes>"
      ]
     },
     "metadata": {
      "needs_background": "light"
     },
     "output_type": "display_data"
    },
    {
     "data": {
      "image/png": "[encoded data removed]",
      "text/plain": [
       "<Figure size 432x288 with 1 Axes>"
      ]
     },
     "metadata": {
      "needs_background": "light"
     },
     "output_type": "display_data"
    },
    {
     "data": {
      "image/png": "[encoded data removed]",
      "text/plain": [
       "<Figure size 432x288 with 1 Axes>"
      ]
     },
     "metadata": {
      "needs_background": "light"
     },
     "output_type": "display_data"
    },
    {
     "data": {
      "image/png": "[encoded data removed]",
      "text/plain": [
       "<Figure size 432x288 with 1 Axes>"
      ]
     },
     "metadata": {
      "needs_background": "light"
     },
     "output_type": "display_data"
    },
    {
     "data": {
      "image/png": "[encoded data removed]",
      "text/plain": [
       "<Figure size 432x288 with 1 Axes>"
      ]
     },
     "metadata": {
      "needs_background": "light"
     },
     "output_type": "display_data"
    },
    {
     "data": {
      "image/png": "[encoded data removed]",
      "text/plain": [
       "<Figure size 432x288 with 1 Axes>"
      ]
     },
     "metadata": {
      "needs_background": "light"
     },
     "output_type": "display_data"
    },
    {
     "data": {
      "image/png": "[encoded data removed]",
      "text/plain": [
       "<Figure size 432x288 with 1 Axes>"
      ]
     },
     "metadata": {
      "needs_background": "light"
     },
     "output_type": "display_data"
    },
    {
     "data": {
      "image/png": "[encoded data removed]",
      "text/plain": [
       "<Figure size 432x288 with 1 Axes>"
      ]
     },
     "metadata": {
      "needs_background": "light"
     },
     "output_type": "display_data"
    },
    {
     "data": {
      "image/png": "[encoded data removed]",
      "text/plain": [
       "<Figure size 432x288 with 1 Axes>"
      ]
     },
     "metadata": {
      "needs_background": "light"
     },
     "output_type": "display_data"
    },
    {
     "data": {
      "image/png": "[encoded data removed]",
      "text/plain": [
       "<Figure size 432x288 with 1 Axes>"
      ]
     },
     "metadata": {
      "needs_background": "light"
     },
     "output_type": "display_data"
    }
   ],
   "source": [
    "for feature in tracks_features_df.drop('name_track', axis=1).drop('uri_track', axis=1):\n",
    "    tracks_df.hist(feature)"
   ]
  },
  {
   "cell_type": "markdown",
   "metadata": {},
   "source": [
    "These plots show us the distribution of the musical signature of MJ's songs. \n",
    "\n",
    "Coupled with research on these features, we will be able to visualize, by combining some features, the different types of MJ's songs.\n",
    "\n",
    "It would then be interesting to group the songs by their audio features."
   ]
  },
  {
   "cell_type": "markdown",
   "metadata": {},
   "source": [
    "# Clustering"
   ]
  },
  {
   "cell_type": "code",
   "execution_count": 21,
   "metadata": {},
   "outputs": [],
   "source": [
    "tracks_features_df = tracks_df[['name_track', 'danceability', 'energy', 'duration_ms', 'key', 'loudness',\\\n",
    "                                'mode', 'speechiness', 'acousticness', 'instrumentalness',\\\n",
    "                                'liveness', 'valence', 'tempo', 'time_signature', 'uri_track']]"
   ]
  },
  {
   "cell_type": "code",
   "execution_count": 22,
   "metadata": {},
   "outputs": [
    {
     "data": {
      "text/html": [
       "<div>\n",
       "<style scoped>\n",
       "    .dataframe tbody tr th:only-of-type {\n",
       "        vertical-align: middle;\n",
       "    }\n",
       "\n",
       "    .dataframe tbody tr th {\n",
       "        vertical-align: top;\n",
       "    }\n",
       "\n",
       "    .dataframe thead th {\n",
       "        text-align: right;\n",
       "    }\n",
       "</style>\n",
       "<table border=\"1\" class=\"dataframe\">\n",
       "  <thead>\n",
       "    <tr style=\"text-align: right;\">\n",
       "      <th></th>\n",
       "      <th>danceability</th>\n",
       "      <th>energy</th>\n",
       "      <th>duration_ms</th>\n",
       "      <th>key</th>\n",
       "      <th>loudness</th>\n",
       "      <th>mode</th>\n",
       "      <th>speechiness</th>\n",
       "      <th>acousticness</th>\n",
       "      <th>instrumentalness</th>\n",
       "      <th>liveness</th>\n",
       "      <th>valence</th>\n",
       "      <th>tempo</th>\n",
       "      <th>time_signature</th>\n",
       "    </tr>\n",
       "  </thead>\n",
       "  <tbody>\n",
       "    <tr>\n",
       "      <td>0</td>\n",
       "      <td>0.731</td>\n",
       "      <td>0.851</td>\n",
       "      <td>343413</td>\n",
       "      <td>4</td>\n",
       "      <td>-4.085</td>\n",
       "      <td>0</td>\n",
       "      <td>0.1030</td>\n",
       "      <td>0.2430</td>\n",
       "      <td>0.000142</td>\n",
       "      <td>0.1170</td>\n",
       "      <td>0.582</td>\n",
       "      <td>97.005</td>\n",
       "      <td>4</td>\n",
       "    </tr>\n",
       "    <tr>\n",
       "      <td>1</td>\n",
       "      <td>0.764</td>\n",
       "      <td>0.887</td>\n",
       "      <td>358053</td>\n",
       "      <td>11</td>\n",
       "      <td>-3.725</td>\n",
       "      <td>1</td>\n",
       "      <td>0.0738</td>\n",
       "      <td>0.0816</td>\n",
       "      <td>0.000108</td>\n",
       "      <td>0.8470</td>\n",
       "      <td>0.721</td>\n",
       "      <td>118.421</td>\n",
       "      <td>4</td>\n",
       "    </tr>\n",
       "    <tr>\n",
       "      <td>2</td>\n",
       "      <td>0.806</td>\n",
       "      <td>0.816</td>\n",
       "      <td>253373</td>\n",
       "      <td>1</td>\n",
       "      <td>-2.767</td>\n",
       "      <td>1</td>\n",
       "      <td>0.0764</td>\n",
       "      <td>0.0148</td>\n",
       "      <td>0.009780</td>\n",
       "      <td>0.0623</td>\n",
       "      <td>0.520</td>\n",
       "      <td>108.980</td>\n",
       "      <td>4</td>\n",
       "    </tr>\n",
       "    <tr>\n",
       "      <td>3</td>\n",
       "      <td>0.767</td>\n",
       "      <td>0.712</td>\n",
       "      <td>237760</td>\n",
       "      <td>1</td>\n",
       "      <td>-4.128</td>\n",
       "      <td>0</td>\n",
       "      <td>0.0324</td>\n",
       "      <td>0.0409</td>\n",
       "      <td>0.000081</td>\n",
       "      <td>0.1320</td>\n",
       "      <td>0.804</td>\n",
       "      <td>124.091</td>\n",
       "      <td>4</td>\n",
       "    </tr>\n",
       "    <tr>\n",
       "      <td>4</td>\n",
       "      <td>0.734</td>\n",
       "      <td>0.801</td>\n",
       "      <td>280946</td>\n",
       "      <td>3</td>\n",
       "      <td>-4.525</td>\n",
       "      <td>1</td>\n",
       "      <td>0.0437</td>\n",
       "      <td>0.1780</td>\n",
       "      <td>0.000401</td>\n",
       "      <td>0.3240</td>\n",
       "      <td>0.331</td>\n",
       "      <td>131.424</td>\n",
       "      <td>4</td>\n",
       "    </tr>\n",
       "    <tr>\n",
       "      <td>...</td>\n",
       "      <td>...</td>\n",
       "      <td>...</td>\n",
       "      <td>...</td>\n",
       "      <td>...</td>\n",
       "      <td>...</td>\n",
       "      <td>...</td>\n",
       "      <td>...</td>\n",
       "      <td>...</td>\n",
       "      <td>...</td>\n",
       "      <td>...</td>\n",
       "      <td>...</td>\n",
       "      <td>...</td>\n",
       "      <td>...</td>\n",
       "    </tr>\n",
       "    <tr>\n",
       "      <td>295</td>\n",
       "      <td>0.403</td>\n",
       "      <td>0.759</td>\n",
       "      <td>172866</td>\n",
       "      <td>0</td>\n",
       "      <td>-10.920</td>\n",
       "      <td>1</td>\n",
       "      <td>0.0524</td>\n",
       "      <td>0.2480</td>\n",
       "      <td>0.000246</td>\n",
       "      <td>0.0932</td>\n",
       "      <td>0.897</td>\n",
       "      <td>94.041</td>\n",
       "      <td>3</td>\n",
       "    </tr>\n",
       "    <tr>\n",
       "      <td>296</td>\n",
       "      <td>0.670</td>\n",
       "      <td>0.698</td>\n",
       "      <td>213893</td>\n",
       "      <td>10</td>\n",
       "      <td>-10.498</td>\n",
       "      <td>1</td>\n",
       "      <td>0.0295</td>\n",
       "      <td>0.4260</td>\n",
       "      <td>0.000354</td>\n",
       "      <td>0.1180</td>\n",
       "      <td>0.877</td>\n",
       "      <td>111.809</td>\n",
       "      <td>4</td>\n",
       "    </tr>\n",
       "    <tr>\n",
       "      <td>297</td>\n",
       "      <td>0.473</td>\n",
       "      <td>0.742</td>\n",
       "      <td>170666</td>\n",
       "      <td>9</td>\n",
       "      <td>-11.202</td>\n",
       "      <td>0</td>\n",
       "      <td>0.1170</td>\n",
       "      <td>0.1540</td>\n",
       "      <td>0.004140</td>\n",
       "      <td>0.1510</td>\n",
       "      <td>0.876</td>\n",
       "      <td>151.037</td>\n",
       "      <td>4</td>\n",
       "    </tr>\n",
       "    <tr>\n",
       "      <td>298</td>\n",
       "      <td>0.599</td>\n",
       "      <td>0.461</td>\n",
       "      <td>217973</td>\n",
       "      <td>8</td>\n",
       "      <td>-11.723</td>\n",
       "      <td>1</td>\n",
       "      <td>0.0244</td>\n",
       "      <td>0.2250</td>\n",
       "      <td>0.000352</td>\n",
       "      <td>0.1070</td>\n",
       "      <td>0.744</td>\n",
       "      <td>101.105</td>\n",
       "      <td>4</td>\n",
       "    </tr>\n",
       "    <tr>\n",
       "      <td>299</td>\n",
       "      <td>0.357</td>\n",
       "      <td>0.249</td>\n",
       "      <td>158826</td>\n",
       "      <td>4</td>\n",
       "      <td>-14.270</td>\n",
       "      <td>1</td>\n",
       "      <td>0.0293</td>\n",
       "      <td>0.7130</td>\n",
       "      <td>0.000086</td>\n",
       "      <td>0.0843</td>\n",
       "      <td>0.230</td>\n",
       "      <td>150.067</td>\n",
       "      <td>4</td>\n",
       "    </tr>\n",
       "  </tbody>\n",
       "</table>\n",
       "<p>300 rows × 13 columns</p>\n",
       "</div>"
      ],
      "text/plain": [
       "     danceability  energy  duration_ms  key  loudness  mode  speechiness  \\\n",
       "0           0.731   0.851       343413    4    -4.085     0       0.1030   \n",
       "1           0.764   0.887       358053   11    -3.725     1       0.0738   \n",
       "2           0.806   0.816       253373    1    -2.767     1       0.0764   \n",
       "3           0.767   0.712       237760    1    -4.128     0       0.0324   \n",
       "4           0.734   0.801       280946    3    -4.525     1       0.0437   \n",
       "..            ...     ...          ...  ...       ...   ...          ...   \n",
       "295         0.403   0.759       172866    0   -10.920     1       0.0524   \n",
       "296         0.670   0.698       213893   10   -10.498     1       0.0295   \n",
       "297         0.473   0.742       170666    9   -11.202     0       0.1170   \n",
       "298         0.599   0.461       217973    8   -11.723     1       0.0244   \n",
       "299         0.357   0.249       158826    4   -14.270     1       0.0293   \n",
       "\n",
       "     acousticness  instrumentalness  liveness  valence    tempo  \\\n",
       "0          0.2430          0.000142    0.1170    0.582   97.005   \n",
       "1          0.0816          0.000108    0.8470    0.721  118.421   \n",
       "2          0.0148          0.009780    0.0623    0.520  108.980   \n",
       "3          0.0409          0.000081    0.1320    0.804  124.091   \n",
       "4          0.1780          0.000401    0.3240    0.331  131.424   \n",
       "..            ...               ...       ...      ...      ...   \n",
       "295        0.2480          0.000246    0.0932    0.897   94.041   \n",
       "296        0.4260          0.000354    0.1180    0.877  111.809   \n",
       "297        0.1540          0.004140    0.1510    0.876  151.037   \n",
       "298        0.2250          0.000352    0.1070    0.744  101.105   \n",
       "299        0.7130          0.000086    0.0843    0.230  150.067   \n",
       "\n",
       "     time_signature  \n",
       "0                 4  \n",
       "1                 4  \n",
       "2                 4  \n",
       "3                 4  \n",
       "4                 4  \n",
       "..              ...  \n",
       "295               3  \n",
       "296               4  \n",
       "297               4  \n",
       "298               4  \n",
       "299               4  \n",
       "\n",
       "[300 rows x 13 columns]"
      ]
     },
     "execution_count": 22,
     "metadata": {},
     "output_type": "execute_result"
    }
   ],
   "source": [
    "tracks_features_df.drop('name_track', axis=1).drop('uri_track', axis=1)"
   ]
  },
  {
   "cell_type": "code",
   "execution_count": 30,
   "metadata": {},
   "outputs": [
    {
     "data": {
      "text/plain": [
       "array([[<matplotlib.axes._subplots.AxesSubplot object at 0x1a37d9f190>]],\n",
       "      dtype=object)"
      ]
     },
     "execution_count": 30,
     "metadata": {},
     "output_type": "execute_result"
    },
    {
     "data": {
      "image/png": "[encoded data removed]",
      "text/plain": [
       "<Figure size 432x288 with 1 Axes>"
      ]
     },
     "metadata": {
      "needs_background": "light"
     },
     "output_type": "display_data"
    }
   ],
   "source": [
    "data = tracks_features_df.drop('name_track', axis=1).drop('uri_track', axis=1)\n",
    "\n",
    "model = sklearn.cluster.KMeans(n_clusters=17).fit(data)\n",
    "tracks_df['label'] = model.predict(tracks_features_df.drop('name_track', axis=1).drop('uri_track', axis=1))\n",
    "tracks_df.hist('label')"
   ]
  },
  {
   "cell_type": "markdown",
   "metadata": {},
   "source": [
    "We used 17 clusters, as it is the number of MJs album, to see if each album had similar audio features."
   ]
  },
  {
   "cell_type": "markdown",
   "metadata": {},
   "source": [
    "We see that depending on the album there are many clusters. Doing an audio features visualization would then be more intersting than situating MJ's albums on a graph. We can link songs together by albums or audio features to compare the lyrical analysis, and the insights the visualization will show will be different."
   ]
  },
  {
   "cell_type": "markdown",
   "metadata": {},
   "source": [
    "Labelling the data in that sence, allows to know which songs a musically similar. In order to visulaize this we can use radar charts. \n",
    "\n",
    "This type of musical clustering can be intersting coupled with the lyrical analysis such as sentiment analysis and topic modelling. We could show for example that songs with positive lyrics have the same audio features.\n",
    "\n",
    "To do a further analysis on the features, we can couple features together (danceability and loudness for example) to also visualize which songs are better depending on context (party, background music...)."
   ]
  },
  {
   "cell_type": "code",
   "execution_count": 32,
   "metadata": {
    "jupyter": {
     "source_hidden": true
    }
   },
   "outputs": [
    {
     "data": {
      "text/plain": [
       "name_album\n",
       "BLOOD ON THE DANCE FLOOR/ HIStory In The Mix     8\n",
       "Bad (Remastered)                                 5\n",
       "Bad 25th Anniversary                             9\n",
       "Dangerous                                       11\n",
       "Forever Michael                                  5\n",
       "Forever, Michael                                 5\n",
       "HIStory - PAST, PRESENT AND FUTURE - BOOK I     10\n",
       "Invincible                                       8\n",
       "Michael                                          7\n",
       "Music & Me                                       4\n",
       "Music And Me                                     5\n",
       "Off the Wall                                     6\n",
       "Scream                                          10\n",
       "Thriller                                         5\n",
       "Thriller 25 Super Deluxe Edition                12\n",
       "XSCAPE                                           7\n",
       "XSCAPE - Track by Track Commentary               2\n",
       "Name: label, dtype: int64"
      ]
     },
     "execution_count": 32,
     "metadata": {},
     "output_type": "execute_result"
    }
   ],
   "source": [
    "tracks_df.groupby('name_album').nunique('labels').label"
   ]
  },
  {
   "cell_type": "markdown",
   "metadata": {},
   "source": [
    "# Audio analysis"
   ]
  },
  {
   "cell_type": "markdown",
   "metadata": {},
   "source": [
    "The audio analysis of the songs is also data we got from the Spotify API.\n",
    "\n",
    "We get timed information on many aspects of the songs such as bars or beats. "
   ]
  },
  {
   "cell_type": "code",
   "execution_count": 33,
   "metadata": {},
   "outputs": [
    {
     "data": {
      "text/html": [
       "<div>\n",
       "<style scoped>\n",
       "    .dataframe tbody tr th:only-of-type {\n",
       "        vertical-align: middle;\n",
       "    }\n",
       "\n",
       "    .dataframe tbody tr th {\n",
       "        vertical-align: top;\n",
       "    }\n",
       "\n",
       "    .dataframe thead th {\n",
       "        text-align: right;\n",
       "    }\n",
       "</style>\n",
       "<table border=\"1\" class=\"dataframe\">\n",
       "  <thead>\n",
       "    <tr style=\"text-align: right;\">\n",
       "      <th></th>\n",
       "      <th>meta</th>\n",
       "      <th>track</th>\n",
       "      <th>bars</th>\n",
       "      <th>beats</th>\n",
       "      <th>tatums</th>\n",
       "      <th>sections</th>\n",
       "      <th>segments</th>\n",
       "      <th>uri</th>\n",
       "    </tr>\n",
       "  </thead>\n",
       "  <tbody>\n",
       "    <tr>\n",
       "      <td>0</td>\n",
       "      <td>{'analyzer_version': '4.0.0', 'platform': 'Lin...</td>\n",
       "      <td>{'num_samples': 7572264, 'duration': 343.41333...</td>\n",
       "      <td>[{'start': 2.77178, 'duration': 2.39216, 'conf...</td>\n",
       "      <td>[{'start': 0.94698, 'duration': 0.62592, 'conf...</td>\n",
       "      <td>[{'start': 0.94698, 'duration': 0.31296, 'conf...</td>\n",
       "      <td>[{'start': 0.0, 'duration': 15.08662, 'confide...</td>\n",
       "      <td>[{'start': 0.0, 'duration': 0.21605, 'confiden...</td>\n",
       "      <td>spotify:track:2BU4dK1fu1CFLjTBz7ju7Q</td>\n",
       "    </tr>\n",
       "    <tr>\n",
       "      <td>1</td>\n",
       "      <td>{'analyzer_version': '4.0.0', 'platform': 'Lin...</td>\n",
       "      <td>{'num_samples': 7895076, 'duration': 358.05333...</td>\n",
       "      <td>[{'start': 0.44776, 'duration': 1.97357, 'conf...</td>\n",
       "      <td>[{'start': 0.44776, 'duration': 0.48946, 'conf...</td>\n",
       "      <td>[{'start': 0.44776, 'duration': 0.24473, 'conf...</td>\n",
       "      <td>[{'start': 0.0, 'duration': 18.33347, 'confide...</td>\n",
       "      <td>[{'start': 0.0, 'duration': 0.18485, 'confiden...</td>\n",
       "      <td>spotify:track:7azo4rpSUh8nXgtonC6Pkq</td>\n",
       "    </tr>\n",
       "    <tr>\n",
       "      <td>2</td>\n",
       "      <td>{'analyzer_version': '4.0.0', 'platform': 'Lin...</td>\n",
       "      <td>{'num_samples': 5586882, 'duration': 253.37333...</td>\n",
       "      <td>[{'start': 0.12478, 'duration': 2.20566, 'conf...</td>\n",
       "      <td>[{'start': 0.12478, 'duration': 0.55169, 'conf...</td>\n",
       "      <td>[{'start': 0.12478, 'duration': 0.27585, 'conf...</td>\n",
       "      <td>[{'start': 0.0, 'duration': 18.8512, 'confiden...</td>\n",
       "      <td>[{'start': 0.0, 'duration': 0.10431, 'confiden...</td>\n",
       "      <td>spotify:track:0QgsvILuE9VQiAVsLStD3W</td>\n",
       "    </tr>\n",
       "    <tr>\n",
       "      <td>3</td>\n",
       "      <td>{'analyzer_version': '4.0.0', 'platform': 'Lin...</td>\n",
       "      <td>{'num_samples': 5242608, 'duration': 237.76, '...</td>\n",
       "      <td>[{'start': 1.0966, 'duration': 1.93872, 'confi...</td>\n",
       "      <td>[{'start': 0.12311, 'duration': 0.48341, 'conf...</td>\n",
       "      <td>[{'start': 0.12311, 'duration': 0.24171, 'conf...</td>\n",
       "      <td>[{'start': 0.0, 'duration': 4.00048, 'confiden...</td>\n",
       "      <td>[{'start': 0.0, 'duration': 0.09279, 'confiden...</td>\n",
       "      <td>spotify:track:6A4Jc8npNo79BOgsrPptLA</td>\n",
       "    </tr>\n",
       "    <tr>\n",
       "      <td>4</td>\n",
       "      <td>{'analyzer_version': '4.0.0', 'platform': 'Lin...</td>\n",
       "      <td>{'num_samples': 6194874, 'duration': 280.94667...</td>\n",
       "      <td>[{'start': 1.45902, 'duration': 1.84623, 'conf...</td>\n",
       "      <td>[{'start': 0.12966, 'duration': 0.4463, 'confi...</td>\n",
       "      <td>[{'start': 0.12966, 'duration': 0.22315, 'conf...</td>\n",
       "      <td>[{'start': 0.0, 'duration': 12.38671, 'confide...</td>\n",
       "      <td>[{'start': 0.0, 'duration': 0.09465, 'confiden...</td>\n",
       "      <td>spotify:track:4FC7GMnGwYeAjuvC83Srbs</td>\n",
       "    </tr>\n",
       "  </tbody>\n",
       "</table>\n",
       "</div>"
      ],
      "text/plain": [
       "                                                meta  \\\n",
       "0  {'analyzer_version': '4.0.0', 'platform': 'Lin...   \n",
       "1  {'analyzer_version': '4.0.0', 'platform': 'Lin...   \n",
       "2  {'analyzer_version': '4.0.0', 'platform': 'Lin...   \n",
       "3  {'analyzer_version': '4.0.0', 'platform': 'Lin...   \n",
       "4  {'analyzer_version': '4.0.0', 'platform': 'Lin...   \n",
       "\n",
       "                                               track  \\\n",
       "0  {'num_samples': 7572264, 'duration': 343.41333...   \n",
       "1  {'num_samples': 7895076, 'duration': 358.05333...   \n",
       "2  {'num_samples': 5586882, 'duration': 253.37333...   \n",
       "3  {'num_samples': 5242608, 'duration': 237.76, '...   \n",
       "4  {'num_samples': 6194874, 'duration': 280.94667...   \n",
       "\n",
       "                                                bars  \\\n",
       "0  [{'start': 2.77178, 'duration': 2.39216, 'conf...   \n",
       "1  [{'start': 0.44776, 'duration': 1.97357, 'conf...   \n",
       "2  [{'start': 0.12478, 'duration': 2.20566, 'conf...   \n",
       "3  [{'start': 1.0966, 'duration': 1.93872, 'confi...   \n",
       "4  [{'start': 1.45902, 'duration': 1.84623, 'conf...   \n",
       "\n",
       "                                               beats  \\\n",
       "0  [{'start': 0.94698, 'duration': 0.62592, 'conf...   \n",
       "1  [{'start': 0.44776, 'duration': 0.48946, 'conf...   \n",
       "2  [{'start': 0.12478, 'duration': 0.55169, 'conf...   \n",
       "3  [{'start': 0.12311, 'duration': 0.48341, 'conf...   \n",
       "4  [{'start': 0.12966, 'duration': 0.4463, 'confi...   \n",
       "\n",
       "                                              tatums  \\\n",
       "0  [{'start': 0.94698, 'duration': 0.31296, 'conf...   \n",
       "1  [{'start': 0.44776, 'duration': 0.24473, 'conf...   \n",
       "2  [{'start': 0.12478, 'duration': 0.27585, 'conf...   \n",
       "3  [{'start': 0.12311, 'duration': 0.24171, 'conf...   \n",
       "4  [{'start': 0.12966, 'duration': 0.22315, 'conf...   \n",
       "\n",
       "                                            sections  \\\n",
       "0  [{'start': 0.0, 'duration': 15.08662, 'confide...   \n",
       "1  [{'start': 0.0, 'duration': 18.33347, 'confide...   \n",
       "2  [{'start': 0.0, 'duration': 18.8512, 'confiden...   \n",
       "3  [{'start': 0.0, 'duration': 4.00048, 'confiden...   \n",
       "4  [{'start': 0.0, 'duration': 12.38671, 'confide...   \n",
       "\n",
       "                                            segments  \\\n",
       "0  [{'start': 0.0, 'duration': 0.21605, 'confiden...   \n",
       "1  [{'start': 0.0, 'duration': 0.18485, 'confiden...   \n",
       "2  [{'start': 0.0, 'duration': 0.10431, 'confiden...   \n",
       "3  [{'start': 0.0, 'duration': 0.09279, 'confiden...   \n",
       "4  [{'start': 0.0, 'duration': 0.09465, 'confiden...   \n",
       "\n",
       "                                    uri  \n",
       "0  spotify:track:2BU4dK1fu1CFLjTBz7ju7Q  \n",
       "1  spotify:track:7azo4rpSUh8nXgtonC6Pkq  \n",
       "2  spotify:track:0QgsvILuE9VQiAVsLStD3W  \n",
       "3  spotify:track:6A4Jc8npNo79BOgsrPptLA  \n",
       "4  spotify:track:4FC7GMnGwYeAjuvC83Srbs  "
      ]
     },
     "execution_count": 33,
     "metadata": {},
     "output_type": "execute_result"
    }
   ],
   "source": [
    "analysis_df.head()"
   ]
  },
  {
   "cell_type": "code",
   "execution_count": 34,
   "metadata": {},
   "outputs": [
    {
     "data": {
      "text/plain": [
       "[{'start': 2.77178, 'duration': 2.39216, 'confidence': 0.455},\n",
       " {'start': 5.16394, 'duration': 2.47263, 'confidence': 0.148},\n",
       " {'start': 7.63658, 'duration': 2.52614, 'confidence': 0.265},\n",
       " {'start': 10.16272, 'duration': 2.46641, 'confidence': 0.447},\n",
       " {'start': 12.62913, 'duration': 2.45749, 'confidence': 0.054},\n",
       " {'start': 15.08662, 'duration': 2.48529, 'confidence': 0.621},\n",
       " {'start': 17.57191, 'duration': 2.52543, 'confidence': 0.754},\n",
       " {'start': 20.09735, 'duration': 2.48046, 'confidence': 0.43},\n",
       " {'start': 22.5778, 'duration': 2.472, 'confidence': 0.44},\n",
       " {'start': 25.0498, 'duration': 2.47639, 'confidence': 0.663},\n",
       " {'start': 27.52619, 'duration': 2.48353, 'confidence': 0.277},\n",
       " {'start': 30.00972, 'duration': 2.47394, 'confidence': 0.5},\n",
       " {'start': 32.48366, 'duration': 2.46846, 'confidence': 0.559},\n",
       " {'start': 34.95212, 'duration': 1.23443, 'confidence': 0.607},\n",
       " {'start': 36.18655, 'duration': 2.47424, 'confidence': 0.261},\n",
       " {'start': 38.66079, 'duration': 2.48828, 'confidence': 0.152},\n",
       " {'start': 41.14908, 'duration': 2.48363, 'confidence': 0.539},\n",
       " {'start': 43.6327, 'duration': 2.46674, 'confidence': 0.4},\n",
       " {'start': 46.09944, 'duration': 2.41317, 'confidence': 0.754},\n",
       " {'start': 48.51261, 'duration': 2.4226, 'confidence': 0.746},\n",
       " {'start': 50.9352, 'duration': 2.47656, 'confidence': 0.501},\n",
       " {'start': 53.41176, 'duration': 2.46717, 'confidence': 0.411},\n",
       " {'start': 55.87893, 'duration': 2.4701, 'confidence': 0.624},\n",
       " {'start': 58.34903, 'duration': 2.47337, 'confidence': 0.879},\n",
       " {'start': 60.8224, 'duration': 2.4654, 'confidence': 0.644},\n",
       " {'start': 63.2878, 'duration': 2.48408, 'confidence': 0.349},\n",
       " {'start': 65.77188, 'duration': 2.47955, 'confidence': 0.395},\n",
       " {'start': 68.25142, 'duration': 2.46908, 'confidence': 0.453},\n",
       " {'start': 70.72051, 'duration': 2.4739, 'confidence': 0.429},\n",
       " {'start': 73.1944, 'duration': 2.47144, 'confidence': 0.742},\n",
       " {'start': 75.66584, 'duration': 2.48545, 'confidence': 0.442},\n",
       " {'start': 78.15129, 'duration': 2.47552, 'confidence': 0.497},\n",
       " {'start': 80.62681, 'duration': 2.52042, 'confidence': 0.405},\n",
       " {'start': 83.14723, 'duration': 2.54808, 'confidence': 0.636},\n",
       " {'start': 85.69531, 'duration': 2.48496, 'confidence': 0.653},\n",
       " {'start': 88.18027, 'duration': 2.48387, 'confidence': 0.615},\n",
       " {'start': 90.66414, 'duration': 2.48241, 'confidence': 0.627},\n",
       " {'start': 93.14655, 'duration': 2.46851, 'confidence': 0.584},\n",
       " {'start': 95.61506, 'duration': 2.48487, 'confidence': 0.423},\n",
       " {'start': 98.09993, 'duration': 2.4862, 'confidence': 0.392},\n",
       " {'start': 100.58613, 'duration': 2.46525, 'confidence': 0.36},\n",
       " {'start': 103.05138, 'duration': 2.46607, 'confidence': 0.337},\n",
       " {'start': 105.51746, 'duration': 2.4664, 'confidence': 0.32},\n",
       " {'start': 107.98386, 'duration': 2.47049, 'confidence': 0.485},\n",
       " {'start': 110.45435, 'duration': 2.47933, 'confidence': 0.523},\n",
       " {'start': 112.93368, 'duration': 2.4288, 'confidence': 0.315},\n",
       " {'start': 115.36248, 'duration': 2.38947, 'confidence': 0.236},\n",
       " {'start': 117.75194, 'duration': 2.44353, 'confidence': 0.62},\n",
       " {'start': 120.19547, 'duration': 2.46184, 'confidence': 0.782},\n",
       " {'start': 122.65732, 'duration': 2.46246, 'confidence': 0.593},\n",
       " {'start': 125.11978, 'duration': 2.47135, 'confidence': 0.469},\n",
       " {'start': 127.59113, 'duration': 2.47029, 'confidence': 0.56},\n",
       " {'start': 130.06142, 'duration': 2.47206, 'confidence': 0.764},\n",
       " {'start': 132.53348, 'duration': 2.47975, 'confidence': 0.522},\n",
       " {'start': 135.01323, 'duration': 2.48987, 'confidence': 0.728},\n",
       " {'start': 137.5031, 'duration': 2.47172, 'confidence': 0.3},\n",
       " {'start': 139.97482, 'duration': 2.45929, 'confidence': 0.755},\n",
       " {'start': 142.43411, 'duration': 2.45826, 'confidence': 0.727},\n",
       " {'start': 144.89237, 'duration': 2.48382, 'confidence': 0.51},\n",
       " {'start': 147.37619, 'duration': 2.49378, 'confidence': 0.619},\n",
       " {'start': 149.86996, 'duration': 2.50549, 'confidence': 0.655},\n",
       " {'start': 152.37546, 'duration': 2.52829, 'confidence': 0.566},\n",
       " {'start': 154.90375, 'duration': 2.49368, 'confidence': 0.587},\n",
       " {'start': 157.39742, 'duration': 2.48985, 'confidence': 0.296},\n",
       " {'start': 159.88727, 'duration': 2.49125, 'confidence': 0.204},\n",
       " {'start': 162.37852, 'duration': 2.4724, 'confidence': 0.389},\n",
       " {'start': 164.85092, 'duration': 2.47185, 'confidence': 0.087},\n",
       " {'start': 167.32277, 'duration': 2.47496, 'confidence': 0.463},\n",
       " {'start': 169.79774, 'duration': 2.46751, 'confidence': 0.781},\n",
       " {'start': 172.26525, 'duration': 2.47008, 'confidence': 0.576},\n",
       " {'start': 174.73532, 'duration': 2.46291, 'confidence': 0.528},\n",
       " {'start': 177.19823, 'duration': 2.47703, 'confidence': 0.155},\n",
       " {'start': 179.67526, 'duration': 2.48045, 'confidence': 0.217},\n",
       " {'start': 182.15572, 'duration': 2.46992, 'confidence': 0.301},\n",
       " {'start': 184.62564, 'duration': 2.47327, 'confidence': 0.614},\n",
       " {'start': 187.09891, 'duration': 2.46974, 'confidence': 0.322},\n",
       " {'start': 189.56865, 'duration': 2.46204, 'confidence': 0.196},\n",
       " {'start': 192.03069, 'duration': 2.48234, 'confidence': 0.119},\n",
       " {'start': 194.51303, 'duration': 2.48828, 'confidence': 0.51},\n",
       " {'start': 197.00131, 'duration': 2.47627, 'confidence': 0.636},\n",
       " {'start': 199.47758, 'duration': 2.46512, 'confidence': 0.828},\n",
       " {'start': 201.9427, 'duration': 2.47988, 'confidence': 0.596},\n",
       " {'start': 204.42259, 'duration': 2.48477, 'confidence': 0.282},\n",
       " {'start': 206.90736, 'duration': 2.49388, 'confidence': 0.527},\n",
       " {'start': 209.40124, 'duration': 2.47641, 'confidence': 0.687},\n",
       " {'start': 211.87765, 'duration': 2.46874, 'confidence': 0.346},\n",
       " {'start': 214.34639, 'duration': 2.4749, 'confidence': 0.522},\n",
       " {'start': 216.82129, 'duration': 2.45995, 'confidence': 0.755},\n",
       " {'start': 219.28124, 'duration': 2.46523, 'confidence': 0.845},\n",
       " {'start': 221.74647, 'duration': 2.50075, 'confidence': 0.575},\n",
       " {'start': 224.24722, 'duration': 2.47299, 'confidence': 0.659},\n",
       " {'start': 226.72021, 'duration': 2.4753, 'confidence': 0.133},\n",
       " {'start': 229.19551, 'duration': 2.47878, 'confidence': 0.365},\n",
       " {'start': 231.67429, 'duration': 2.47968, 'confidence': 0.445},\n",
       " {'start': 234.15396, 'duration': 2.48273, 'confidence': 0.785},\n",
       " {'start': 236.6367, 'duration': 2.47198, 'confidence': 0.376},\n",
       " {'start': 239.10868, 'duration': 2.48458, 'confidence': 0.412},\n",
       " {'start': 241.59325, 'duration': 2.48756, 'confidence': 0.224},\n",
       " {'start': 244.08081, 'duration': 2.46742, 'confidence': 0.502},\n",
       " {'start': 246.54823, 'duration': 2.45773, 'confidence': 0.17},\n",
       " {'start': 249.00596, 'duration': 2.46258, 'confidence': 0.596},\n",
       " {'start': 251.46854, 'duration': 2.48685, 'confidence': 0.424},\n",
       " {'start': 253.95539, 'duration': 2.47224, 'confidence': 0.569},\n",
       " {'start': 256.42763, 'duration': 2.473, 'confidence': 0.31},\n",
       " {'start': 258.90063, 'duration': 2.48739, 'confidence': 0.753},\n",
       " {'start': 261.38803, 'duration': 2.48371, 'confidence': 0.368},\n",
       " {'start': 263.87174, 'duration': 2.4732, 'confidence': 0.401},\n",
       " {'start': 266.34494, 'duration': 2.46955, 'confidence': 0.684},\n",
       " {'start': 268.81448, 'duration': 2.4632, 'confidence': 0.331},\n",
       " {'start': 271.27769, 'duration': 2.48008, 'confidence': 0.2},\n",
       " {'start': 273.75776, 'duration': 3.08678, 'confidence': 0.453},\n",
       " {'start': 276.84455, 'duration': 2.40023, 'confidence': 0.657},\n",
       " {'start': 279.24478, 'duration': 2.42483, 'confidence': 0.519},\n",
       " {'start': 281.6696, 'duration': 2.46608, 'confidence': 0.299},\n",
       " {'start': 284.13568, 'duration': 2.46604, 'confidence': 0.565},\n",
       " {'start': 286.60173, 'duration': 2.46962, 'confidence': 0.345},\n",
       " {'start': 289.07134, 'duration': 2.46409, 'confidence': 0.305},\n",
       " {'start': 291.53543, 'duration': 2.45676, 'confidence': 0.533},\n",
       " {'start': 293.99219, 'duration': 2.40939, 'confidence': 0.403},\n",
       " {'start': 296.40159, 'duration': 2.30508, 'confidence': 0.212},\n",
       " {'start': 298.70667, 'duration': 2.33354, 'confidence': 0.261},\n",
       " {'start': 301.04021, 'duration': 2.43511, 'confidence': 0.675},\n",
       " {'start': 303.47532, 'duration': 2.37434, 'confidence': 0.288},\n",
       " {'start': 305.84966, 'duration': 2.3519, 'confidence': 0.47},\n",
       " {'start': 308.20156, 'duration': 2.40093, 'confidence': 0.268},\n",
       " {'start': 310.60249, 'duration': 2.49725, 'confidence': 0.503},\n",
       " {'start': 313.09974, 'duration': 2.49934, 'confidence': 0.723},\n",
       " {'start': 315.59908, 'duration': 2.49376, 'confidence': 0.531},\n",
       " {'start': 318.09284, 'duration': 2.52077, 'confidence': 0.485},\n",
       " {'start': 320.61361, 'duration': 2.4977, 'confidence': 0.58},\n",
       " {'start': 323.1113, 'duration': 2.57556, 'confidence': 0.381},\n",
       " {'start': 325.68686, 'duration': 2.62499, 'confidence': 0.265},\n",
       " {'start': 328.31185, 'duration': 2.57132, 'confidence': 0.143},\n",
       " {'start': 330.88317, 'duration': 2.45908, 'confidence': 0.464},\n",
       " {'start': 333.34225, 'duration': 2.41701, 'confidence': 0.851},\n",
       " {'start': 335.75926, 'duration': 2.44071, 'confidence': 0.339},\n",
       " {'start': 338.19997, 'duration': 2.48887, 'confidence': 0.0}]"
      ]
     },
     "execution_count": 34,
     "metadata": {},
     "output_type": "execute_result"
    }
   ],
   "source": [
    "analysis_df.iloc[0].bars"
   ]
  },
  {
   "cell_type": "markdown",
   "metadata": {},
   "source": [
    "There are no evident visualization aspects using this audio analysis. We need to do further research on this, as we do see an opportunity to do an indepth comparison between MJ's songs going into the song's structure."
   ]
  },
  {
   "cell_type": "markdown",
   "metadata": {},
   "source": [
    "# Temporary conclusion"
   ]
  },
  {
   "cell_type": "markdown",
   "metadata": {},
   "source": [
    "This data is a great companion to the lyrical analysis. \n",
    "\n",
    "As the features require some musical knowledge or research to fully understand what they mean, we did not yet *play* with the features (average them, couple them together...) to see if some plots would be interesting. A great starting point is http://organizeyourmusic.playlistmachinery.com/, from Spotify, that allow users to visualize their playlists using these features, and obtain relevant plots for our final result.\n",
    "\n",
    "For the audio analysis dataframe, we might not use it, but will keep searching for what has been done to get some insights and inspiration."
   ]
  }
 ],
 "metadata": {
  "kernelspec": {
   "display_name": "Python 3",
   "language": "python",
   "name": "python3"
  },
  "language_info": {
   "codemirror_mode": {
    "name": "ipython",
    "version": 3
   },
   "file_extension": ".py",
   "mimetype": "text/x-python",
   "name": "python",
   "nbconvert_exporter": "python",
   "pygments_lexer": "ipython3",
   "version": "3.7.4"
  }
 },
 "nbformat": 4,
 "nbformat_minor": 4
}
