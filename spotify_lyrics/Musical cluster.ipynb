{
 "cells": [
  {
   "cell_type": "code",
   "execution_count": 1,
   "metadata": {},
   "outputs": [],
   "source": [
    "import pandas as pd"
   ]
  },
  {
   "cell_type": "code",
   "execution_count": 85,
   "metadata": {},
   "outputs": [
    {
     "name": "stdout",
     "output_type": "stream",
     "text": [
      "(1944, 30)\n",
      "(1257, 30)\n",
      "(1257, 30)\n",
      "(1257, 30)\n"
     ]
    },
    {
     "data": {
      "text/html": [
       "<div>\n",
       "<style scoped>\n",
       "    .dataframe tbody tr th:only-of-type {\n",
       "        vertical-align: middle;\n",
       "    }\n",
       "\n",
       "    .dataframe tbody tr th {\n",
       "        vertical-align: top;\n",
       "    }\n",
       "\n",
       "    .dataframe thead th {\n",
       "        text-align: right;\n",
       "    }\n",
       "</style>\n",
       "<table border=\"1\" class=\"dataframe\">\n",
       "  <thead>\n",
       "    <tr style=\"text-align: right;\">\n",
       "      <th></th>\n",
       "      <th>Unnamed: 0</th>\n",
       "      <th>acousticness</th>\n",
       "      <th>artist</th>\n",
       "      <th>artists_track</th>\n",
       "      <th>artists_track_uri</th>\n",
       "      <th>clean_title</th>\n",
       "      <th>danceability</th>\n",
       "      <th>disc_number</th>\n",
       "      <th>duration_ms</th>\n",
       "      <th>energy</th>\n",
       "      <th>...</th>\n",
       "      <th>name_album</th>\n",
       "      <th>name_track</th>\n",
       "      <th>speechiness</th>\n",
       "      <th>tempo</th>\n",
       "      <th>time_signature</th>\n",
       "      <th>total_tracks</th>\n",
       "      <th>track_number</th>\n",
       "      <th>uri_album</th>\n",
       "      <th>uri_track</th>\n",
       "      <th>valence</th>\n",
       "    </tr>\n",
       "  </thead>\n",
       "  <tbody>\n",
       "    <tr>\n",
       "      <th>0</th>\n",
       "      <td>0</td>\n",
       "      <td>0.876</td>\n",
       "      <td>Frank Sinatra</td>\n",
       "      <td>['Frank Sinatra']</td>\n",
       "      <td>['spotify:artist:1Mxqyy3pSjf8kZZL4QVxS0']</td>\n",
       "      <td>nice_n_easy</td>\n",
       "      <td>0.479</td>\n",
       "      <td>1</td>\n",
       "      <td>165786</td>\n",
       "      <td>0.220</td>\n",
       "      <td>...</td>\n",
       "      <td>Sinatra Sings Alan &amp; Marilyn Bergman</td>\n",
       "      <td>Nice 'N' Easy - Remastered</td>\n",
       "      <td>0.0327</td>\n",
       "      <td>0.525406</td>\n",
       "      <td>4</td>\n",
       "      <td>13.0</td>\n",
       "      <td>1</td>\n",
       "      <td>spotify:album:5CUT8cFNmHeCBzrX8eMdiE</td>\n",
       "      <td>spotify:track:5onosMoIeq82BvOgpsZqaO</td>\n",
       "      <td>0.471</td>\n",
       "    </tr>\n",
       "    <tr>\n",
       "      <th>1</th>\n",
       "      <td>1</td>\n",
       "      <td>0.738</td>\n",
       "      <td>Frank Sinatra</td>\n",
       "      <td>['Frank Sinatra']</td>\n",
       "      <td>['spotify:artist:1Mxqyy3pSjf8kZZL4QVxS0']</td>\n",
       "      <td>ol_macdonald</td>\n",
       "      <td>0.608</td>\n",
       "      <td>1</td>\n",
       "      <td>160306</td>\n",
       "      <td>0.407</td>\n",
       "      <td>...</td>\n",
       "      <td>Sinatra Sings Alan &amp; Marilyn Bergman</td>\n",
       "      <td>Ol' Macdonald</td>\n",
       "      <td>0.0375</td>\n",
       "      <td>0.405033</td>\n",
       "      <td>4</td>\n",
       "      <td>13.0</td>\n",
       "      <td>2</td>\n",
       "      <td>spotify:album:5CUT8cFNmHeCBzrX8eMdiE</td>\n",
       "      <td>spotify:track:0mbxjGR00powlsIq7CB3u7</td>\n",
       "      <td>0.730</td>\n",
       "    </tr>\n",
       "  </tbody>\n",
       "</table>\n",
       "<p>2 rows × 30 columns</p>\n",
       "</div>"
      ],
      "text/plain": [
       "   Unnamed: 0  acousticness         artist      artists_track  \\\n",
       "0           0         0.876  Frank Sinatra  ['Frank Sinatra']   \n",
       "1           1         0.738  Frank Sinatra  ['Frank Sinatra']   \n",
       "\n",
       "                           artists_track_uri   clean_title  danceability  \\\n",
       "0  ['spotify:artist:1Mxqyy3pSjf8kZZL4QVxS0']   nice_n_easy         0.479   \n",
       "1  ['spotify:artist:1Mxqyy3pSjf8kZZL4QVxS0']  ol_macdonald         0.608   \n",
       "\n",
       "   disc_number  duration_ms  energy  ...  \\\n",
       "0            1       165786   0.220  ...   \n",
       "1            1       160306   0.407  ...   \n",
       "\n",
       "                             name_album                  name_track  \\\n",
       "0  Sinatra Sings Alan & Marilyn Bergman  Nice 'N' Easy - Remastered   \n",
       "1  Sinatra Sings Alan & Marilyn Bergman               Ol' Macdonald   \n",
       "\n",
       "  speechiness     tempo  time_signature  total_tracks  track_number  \\\n",
       "0      0.0327  0.525406               4          13.0             1   \n",
       "1      0.0375  0.405033               4          13.0             2   \n",
       "\n",
       "                              uri_album                             uri_track  \\\n",
       "0  spotify:album:5CUT8cFNmHeCBzrX8eMdiE  spotify:track:5onosMoIeq82BvOgpsZqaO   \n",
       "1  spotify:album:5CUT8cFNmHeCBzrX8eMdiE  spotify:track:0mbxjGR00powlsIq7CB3u7   \n",
       "\n",
       "   valence  \n",
       "0    0.471  \n",
       "1    0.730  \n",
       "\n",
       "[2 rows x 30 columns]"
      ]
     },
     "execution_count": 85,
     "metadata": {},
     "output_type": "execute_result"
    }
   ],
   "source": [
    "final_df = pd.read_csv(\"../data/final_df.csv\")\n",
    "print(final_df.shape)\n",
    "final_df = final_df.drop_duplicates(subset=['artist', 'name_track'])\n",
    "print(final_df.shape)\n",
    "\n",
    "final_df['loudness'] = final_df['loudness'].abs().apply(lambda x: x/final_df['loudness'].abs().max())\n",
    "final_df['tempo'] = final_df['tempo'].abs().apply(lambda x: x/final_df['tempo'].max())\n",
    "\n",
    "print(final_df.shape)\n",
    "#final_df = final_df[final_df['artist'] != 'Frank Sinatra']\n",
    "print(final_df.shape)\n",
    "\n",
    "final_df.head(2)"
   ]
  },
  {
   "cell_type": "code",
   "execution_count": null,
   "metadata": {},
   "outputs": [],
   "source": [
    "def _sample(df):\n",
    "    "
   ]
  },
  {
   "cell_type": "code",
   "execution_count": 93,
   "metadata": {},
   "outputs": [
    {
     "data": {
      "text/html": [
       "<div>\n",
       "<style scoped>\n",
       "    .dataframe tbody tr th:only-of-type {\n",
       "        vertical-align: middle;\n",
       "    }\n",
       "\n",
       "    .dataframe tbody tr th {\n",
       "        vertical-align: top;\n",
       "    }\n",
       "\n",
       "    .dataframe thead tr th {\n",
       "        text-align: left;\n",
       "    }\n",
       "\n",
       "    .dataframe thead tr:last-of-type th {\n",
       "        text-align: right;\n",
       "    }\n",
       "</style>\n",
       "<table border=\"1\" class=\"dataframe\">\n",
       "  <thead>\n",
       "    <tr>\n",
       "      <th></th>\n",
       "      <th colspan=\"10\" halign=\"left\">Unnamed: 0</th>\n",
       "      <th>...</th>\n",
       "      <th colspan=\"10\" halign=\"left\">labels</th>\n",
       "    </tr>\n",
       "    <tr>\n",
       "      <th></th>\n",
       "      <th>0</th>\n",
       "      <th>1</th>\n",
       "      <th>2</th>\n",
       "      <th>3</th>\n",
       "      <th>4</th>\n",
       "      <th>5</th>\n",
       "      <th>6</th>\n",
       "      <th>7</th>\n",
       "      <th>8</th>\n",
       "      <th>9</th>\n",
       "      <th>...</th>\n",
       "      <th>1885</th>\n",
       "      <th>1886</th>\n",
       "      <th>1887</th>\n",
       "      <th>1888</th>\n",
       "      <th>1889</th>\n",
       "      <th>1890</th>\n",
       "      <th>1891</th>\n",
       "      <th>1892</th>\n",
       "      <th>1893</th>\n",
       "      <th>1894</th>\n",
       "    </tr>\n",
       "    <tr>\n",
       "      <th>artist</th>\n",
       "      <th></th>\n",
       "      <th></th>\n",
       "      <th></th>\n",
       "      <th></th>\n",
       "      <th></th>\n",
       "      <th></th>\n",
       "      <th></th>\n",
       "      <th></th>\n",
       "      <th></th>\n",
       "      <th></th>\n",
       "      <th></th>\n",
       "      <th></th>\n",
       "      <th></th>\n",
       "      <th></th>\n",
       "      <th></th>\n",
       "      <th></th>\n",
       "      <th></th>\n",
       "      <th></th>\n",
       "      <th></th>\n",
       "      <th></th>\n",
       "      <th></th>\n",
       "    </tr>\n",
       "  </thead>\n",
       "  <tbody>\n",
       "    <tr>\n",
       "      <th>Eminem</th>\n",
       "      <td>NaN</td>\n",
       "      <td>NaN</td>\n",
       "      <td>NaN</td>\n",
       "      <td>NaN</td>\n",
       "      <td>NaN</td>\n",
       "      <td>NaN</td>\n",
       "      <td>NaN</td>\n",
       "      <td>NaN</td>\n",
       "      <td>NaN</td>\n",
       "      <td>NaN</td>\n",
       "      <td>...</td>\n",
       "      <td>0.0</td>\n",
       "      <td>0.0</td>\n",
       "      <td>0.0</td>\n",
       "      <td>0.0</td>\n",
       "      <td>0.0</td>\n",
       "      <td>0.0</td>\n",
       "      <td>0.0</td>\n",
       "      <td>0.0</td>\n",
       "      <td>0.0</td>\n",
       "      <td>0.0</td>\n",
       "    </tr>\n",
       "    <tr>\n",
       "      <th>Frank Sinatra</th>\n",
       "      <td>0.0</td>\n",
       "      <td>1.0</td>\n",
       "      <td>2.0</td>\n",
       "      <td>3.0</td>\n",
       "      <td>4.0</td>\n",
       "      <td>5.0</td>\n",
       "      <td>6.0</td>\n",
       "      <td>7.0</td>\n",
       "      <td>8.0</td>\n",
       "      <td>9.0</td>\n",
       "      <td>...</td>\n",
       "      <td>NaN</td>\n",
       "      <td>NaN</td>\n",
       "      <td>NaN</td>\n",
       "      <td>NaN</td>\n",
       "      <td>NaN</td>\n",
       "      <td>NaN</td>\n",
       "      <td>NaN</td>\n",
       "      <td>NaN</td>\n",
       "      <td>NaN</td>\n",
       "      <td>NaN</td>\n",
       "    </tr>\n",
       "    <tr>\n",
       "      <th>Michael Jackson</th>\n",
       "      <td>NaN</td>\n",
       "      <td>NaN</td>\n",
       "      <td>NaN</td>\n",
       "      <td>NaN</td>\n",
       "      <td>NaN</td>\n",
       "      <td>NaN</td>\n",
       "      <td>NaN</td>\n",
       "      <td>NaN</td>\n",
       "      <td>NaN</td>\n",
       "      <td>NaN</td>\n",
       "      <td>...</td>\n",
       "      <td>NaN</td>\n",
       "      <td>NaN</td>\n",
       "      <td>NaN</td>\n",
       "      <td>NaN</td>\n",
       "      <td>NaN</td>\n",
       "      <td>NaN</td>\n",
       "      <td>NaN</td>\n",
       "      <td>NaN</td>\n",
       "      <td>NaN</td>\n",
       "      <td>NaN</td>\n",
       "    </tr>\n",
       "    <tr>\n",
       "      <th>Rihanna</th>\n",
       "      <td>NaN</td>\n",
       "      <td>NaN</td>\n",
       "      <td>NaN</td>\n",
       "      <td>NaN</td>\n",
       "      <td>NaN</td>\n",
       "      <td>NaN</td>\n",
       "      <td>NaN</td>\n",
       "      <td>NaN</td>\n",
       "      <td>NaN</td>\n",
       "      <td>NaN</td>\n",
       "      <td>...</td>\n",
       "      <td>NaN</td>\n",
       "      <td>NaN</td>\n",
       "      <td>NaN</td>\n",
       "      <td>NaN</td>\n",
       "      <td>NaN</td>\n",
       "      <td>NaN</td>\n",
       "      <td>NaN</td>\n",
       "      <td>NaN</td>\n",
       "      <td>NaN</td>\n",
       "      <td>NaN</td>\n",
       "    </tr>\n",
       "    <tr>\n",
       "      <th>The Beatles</th>\n",
       "      <td>NaN</td>\n",
       "      <td>NaN</td>\n",
       "      <td>NaN</td>\n",
       "      <td>NaN</td>\n",
       "      <td>NaN</td>\n",
       "      <td>NaN</td>\n",
       "      <td>NaN</td>\n",
       "      <td>NaN</td>\n",
       "      <td>NaN</td>\n",
       "      <td>NaN</td>\n",
       "      <td>...</td>\n",
       "      <td>NaN</td>\n",
       "      <td>NaN</td>\n",
       "      <td>NaN</td>\n",
       "      <td>NaN</td>\n",
       "      <td>NaN</td>\n",
       "      <td>NaN</td>\n",
       "      <td>NaN</td>\n",
       "      <td>NaN</td>\n",
       "      <td>NaN</td>\n",
       "      <td>NaN</td>\n",
       "    </tr>\n",
       "  </tbody>\n",
       "</table>\n",
       "<p>5 rows × 23250 columns</p>\n",
       "</div>"
      ],
      "text/plain": [
       "                Unnamed: 0                                               ...  \\\n",
       "                      0    1    2    3    4    5    6    7    8    9     ...   \n",
       "artist                                                                   ...   \n",
       "Eminem                 NaN  NaN  NaN  NaN  NaN  NaN  NaN  NaN  NaN  NaN  ...   \n",
       "Frank Sinatra          0.0  1.0  2.0  3.0  4.0  5.0  6.0  7.0  8.0  9.0  ...   \n",
       "Michael Jackson        NaN  NaN  NaN  NaN  NaN  NaN  NaN  NaN  NaN  NaN  ...   \n",
       "Rihanna                NaN  NaN  NaN  NaN  NaN  NaN  NaN  NaN  NaN  NaN  ...   \n",
       "The Beatles            NaN  NaN  NaN  NaN  NaN  NaN  NaN  NaN  NaN  NaN  ...   \n",
       "\n",
       "                labels                                               \n",
       "                  1885 1886 1887 1888 1889 1890 1891 1892 1893 1894  \n",
       "artist                                                               \n",
       "Eminem             0.0  0.0  0.0  0.0  0.0  0.0  0.0  0.0  0.0  0.0  \n",
       "Frank Sinatra      NaN  NaN  NaN  NaN  NaN  NaN  NaN  NaN  NaN  NaN  \n",
       "Michael Jackson    NaN  NaN  NaN  NaN  NaN  NaN  NaN  NaN  NaN  NaN  \n",
       "Rihanna            NaN  NaN  NaN  NaN  NaN  NaN  NaN  NaN  NaN  NaN  \n",
       "The Beatles        NaN  NaN  NaN  NaN  NaN  NaN  NaN  NaN  NaN  NaN  \n",
       "\n",
       "[5 rows x 23250 columns]"
      ]
     },
     "execution_count": 93,
     "metadata": {},
     "output_type": "execute_result"
    }
   ],
   "source": [
    "\n",
    "x = final_df.groupby('artist').apply(lambda g: g[:TOP_NUM_TRACKS]).unstack()\n",
    "x.head()"
   ]
  },
  {
   "cell_type": "code",
   "execution_count": 98,
   "metadata": {},
   "outputs": [
    {
     "data": {
      "text/plain": [
       "The Beatles        34\n",
       "Frank Sinatra      29\n",
       "Eminem             15\n",
       "Michael Jackson    13\n",
       "Rihanna             9\n",
       "Name: artist, dtype: int64"
      ]
     },
     "execution_count": 98,
     "metadata": {},
     "output_type": "execute_result"
    }
   ],
   "source": [
    "final_df.sample(100)['artist'].value_counts()"
   ]
  },
  {
   "cell_type": "code",
   "execution_count": 104,
   "metadata": {},
   "outputs": [],
   "source": [
    "TOP_NUM_TRACKS = 150\n",
    "\n",
    "eminem = final_df.query(\"artist == 'Eminem'\").sample(TOP_NUM_TRACKS)\n",
    "rihanna = final_df.query(\"artist == 'Rihanna'\").sample(TOP_NUM_TRACKS)\n",
    "fs = final_df.query(\"artist == 'Frank Sinatra'\").sample(TOP_NUM_TRACKS)\n",
    "tb = final_df.query(\"artist == 'The Beatles'\").sample(TOP_NUM_TRACKS)\n",
    "mj = final_df.query(\"artist == 'Michael Jackson'\").sample(TOP_NUM_TRACKS)\n",
    "\n",
    "final_df = pd.concat([eminem, rihanna, fs, tb, mj])"
   ]
  },
  {
   "cell_type": "code",
   "execution_count": 105,
   "metadata": {},
   "outputs": [],
   "source": [
    "import matplotlib.pyplot as plt\n",
    "%matplotlib inline\n",
    "%config InlineBackend.figure_format=\"retina\"\n",
    "import matplotlib.pyplot as plt\n",
    "plt.rcParams[\"figure.figsize\"] = [15, 3]"
   ]
  },
  {
   "cell_type": "code",
   "execution_count": 109,
   "metadata": {},
   "outputs": [],
   "source": [
    "musical_features = ['energy', \n",
    "                    'valence', \n",
    "                    'loudness',\n",
    "                    'acousticness',\n",
    "                    'danceability'\n",
    "                   ]\n",
    "\n",
    "from sklearn.cluster import KMeans\n",
    "\n",
    "NUM_CLUSTERS = 5\n",
    "\n",
    "mf = final_df[musical_features]\n",
    "\n",
    "kmeans = KMeans(n_clusters=NUM_CLUSTERS, random_state=0).fit(mf)\n",
    "final_df['labels'] = kmeans.predict(mf)"
   ]
  },
  {
   "cell_type": "code",
   "execution_count": 110,
   "metadata": {},
   "outputs": [
    {
     "data": {
      "text/html": [
       "<div>\n",
       "<style scoped>\n",
       "    .dataframe tbody tr th:only-of-type {\n",
       "        vertical-align: middle;\n",
       "    }\n",
       "\n",
       "    .dataframe tbody tr th {\n",
       "        vertical-align: top;\n",
       "    }\n",
       "\n",
       "    .dataframe thead th {\n",
       "        text-align: right;\n",
       "    }\n",
       "</style>\n",
       "<table border=\"1\" class=\"dataframe\">\n",
       "  <thead>\n",
       "    <tr style=\"text-align: right;\">\n",
       "      <th></th>\n",
       "      <th>Unnamed: 0</th>\n",
       "      <th>acousticness</th>\n",
       "      <th>artist</th>\n",
       "      <th>artists_track</th>\n",
       "      <th>artists_track_uri</th>\n",
       "      <th>clean_title</th>\n",
       "      <th>danceability</th>\n",
       "      <th>disc_number</th>\n",
       "      <th>duration_ms</th>\n",
       "      <th>energy</th>\n",
       "      <th>...</th>\n",
       "      <th>name_track</th>\n",
       "      <th>speechiness</th>\n",
       "      <th>tempo</th>\n",
       "      <th>time_signature</th>\n",
       "      <th>total_tracks</th>\n",
       "      <th>track_number</th>\n",
       "      <th>uri_album</th>\n",
       "      <th>uri_track</th>\n",
       "      <th>valence</th>\n",
       "      <th>labels</th>\n",
       "    </tr>\n",
       "  </thead>\n",
       "  <tbody>\n",
       "    <tr>\n",
       "      <th>1904</th>\n",
       "      <td>1904</td>\n",
       "      <td>0.0218</td>\n",
       "      <td>Eminem</td>\n",
       "      <td>['Eminem']</td>\n",
       "      <td>NaN</td>\n",
       "      <td>role_model</td>\n",
       "      <td>0.865</td>\n",
       "      <td>1</td>\n",
       "      <td>205400</td>\n",
       "      <td>0.589</td>\n",
       "      <td>...</td>\n",
       "      <td>Role Model</td>\n",
       "      <td>0.258</td>\n",
       "      <td>0.439529</td>\n",
       "      <td>4</td>\n",
       "      <td>NaN</td>\n",
       "      <td>9</td>\n",
       "      <td>NaN</td>\n",
       "      <td>spotify:track:0EtirusGt3LivUmALXSMVe</td>\n",
       "      <td>0.776</td>\n",
       "      <td>0</td>\n",
       "    </tr>\n",
       "    <tr>\n",
       "      <th>1907</th>\n",
       "      <td>1907</td>\n",
       "      <td>0.0960</td>\n",
       "      <td>Eminem</td>\n",
       "      <td>['Eminem']</td>\n",
       "      <td>NaN</td>\n",
       "      <td>rock_bottom</td>\n",
       "      <td>0.859</td>\n",
       "      <td>1</td>\n",
       "      <td>214093</td>\n",
       "      <td>0.642</td>\n",
       "      <td>...</td>\n",
       "      <td>Rock Bottom</td>\n",
       "      <td>0.130</td>\n",
       "      <td>0.439945</td>\n",
       "      <td>4</td>\n",
       "      <td>NaN</td>\n",
       "      <td>14</td>\n",
       "      <td>NaN</td>\n",
       "      <td>spotify:track:3guazByz82uD2zHf8q7As1</td>\n",
       "      <td>0.353</td>\n",
       "      <td>3</td>\n",
       "    </tr>\n",
       "    <tr>\n",
       "      <th>1119</th>\n",
       "      <td>1119</td>\n",
       "      <td>0.2610</td>\n",
       "      <td>Eminem</td>\n",
       "      <td>['Eminem']</td>\n",
       "      <td>['spotify:artist:7dGJo4pcD2V6oG8kP0tJRR']</td>\n",
       "      <td>normal</td>\n",
       "      <td>0.907</td>\n",
       "      <td>1</td>\n",
       "      <td>222477</td>\n",
       "      <td>0.640</td>\n",
       "      <td>...</td>\n",
       "      <td>Normal</td>\n",
       "      <td>0.354</td>\n",
       "      <td>0.578254</td>\n",
       "      <td>4</td>\n",
       "      <td>13.0</td>\n",
       "      <td>5</td>\n",
       "      <td>spotify:album:3HNnxK7NgLXbDoxRZxNWiR</td>\n",
       "      <td>spotify:track:0evt4UZbdhnHtcAnxkm6A1</td>\n",
       "      <td>0.803</td>\n",
       "      <td>0</td>\n",
       "    </tr>\n",
       "    <tr>\n",
       "      <th>1152</th>\n",
       "      <td>1152</td>\n",
       "      <td>0.5610</td>\n",
       "      <td>Eminem</td>\n",
       "      <td>['Eminem']</td>\n",
       "      <td>['spotify:artist:7dGJo4pcD2V6oG8kP0tJRR']</td>\n",
       "      <td>offended</td>\n",
       "      <td>0.661</td>\n",
       "      <td>1</td>\n",
       "      <td>320920</td>\n",
       "      <td>0.865</td>\n",
       "      <td>...</td>\n",
       "      <td>Offended</td>\n",
       "      <td>0.362</td>\n",
       "      <td>0.667796</td>\n",
       "      <td>4</td>\n",
       "      <td>19.0</td>\n",
       "      <td>15</td>\n",
       "      <td>spotify:album:7cwcyW39NGUAiukHc1MOFD</td>\n",
       "      <td>spotify:track:2tQnJFGS1YXhXJulEHR43p</td>\n",
       "      <td>0.731</td>\n",
       "      <td>0</td>\n",
       "    </tr>\n",
       "    <tr>\n",
       "      <th>1081</th>\n",
       "      <td>1081</td>\n",
       "      <td>0.0387</td>\n",
       "      <td>Eminem</td>\n",
       "      <td>['Eminem']</td>\n",
       "      <td>['spotify:artist:7dGJo4pcD2V6oG8kP0tJRR']</td>\n",
       "      <td>in_too_deep</td>\n",
       "      <td>0.720</td>\n",
       "      <td>1</td>\n",
       "      <td>194706</td>\n",
       "      <td>0.767</td>\n",
       "      <td>...</td>\n",
       "      <td>In Too Deep</td>\n",
       "      <td>0.214</td>\n",
       "      <td>0.425182</td>\n",
       "      <td>4</td>\n",
       "      <td>20.0</td>\n",
       "      <td>6</td>\n",
       "      <td>spotify:album:4otkd9As6YaxxEkIjXPiZ6</td>\n",
       "      <td>spotify:track:7Dj2wqPYXfSRFwa6qyOztr</td>\n",
       "      <td>0.595</td>\n",
       "      <td>0</td>\n",
       "    </tr>\n",
       "  </tbody>\n",
       "</table>\n",
       "<p>5 rows × 31 columns</p>\n",
       "</div>"
      ],
      "text/plain": [
       "      Unnamed: 0  acousticness  artist artists_track  \\\n",
       "1904        1904        0.0218  Eminem    ['Eminem']   \n",
       "1907        1907        0.0960  Eminem    ['Eminem']   \n",
       "1119        1119        0.2610  Eminem    ['Eminem']   \n",
       "1152        1152        0.5610  Eminem    ['Eminem']   \n",
       "1081        1081        0.0387  Eminem    ['Eminem']   \n",
       "\n",
       "                              artists_track_uri  clean_title  danceability  \\\n",
       "1904                                        NaN   role_model         0.865   \n",
       "1907                                        NaN  rock_bottom         0.859   \n",
       "1119  ['spotify:artist:7dGJo4pcD2V6oG8kP0tJRR']       normal         0.907   \n",
       "1152  ['spotify:artist:7dGJo4pcD2V6oG8kP0tJRR']     offended         0.661   \n",
       "1081  ['spotify:artist:7dGJo4pcD2V6oG8kP0tJRR']  in_too_deep         0.720   \n",
       "\n",
       "      disc_number  duration_ms  energy  ...   name_track  speechiness  \\\n",
       "1904            1       205400   0.589  ...   Role Model        0.258   \n",
       "1907            1       214093   0.642  ...  Rock Bottom        0.130   \n",
       "1119            1       222477   0.640  ...       Normal        0.354   \n",
       "1152            1       320920   0.865  ...     Offended        0.362   \n",
       "1081            1       194706   0.767  ...  In Too Deep        0.214   \n",
       "\n",
       "         tempo  time_signature  total_tracks  track_number  \\\n",
       "1904  0.439529               4           NaN             9   \n",
       "1907  0.439945               4           NaN            14   \n",
       "1119  0.578254               4          13.0             5   \n",
       "1152  0.667796               4          19.0            15   \n",
       "1081  0.425182               4          20.0             6   \n",
       "\n",
       "                                 uri_album  \\\n",
       "1904                                   NaN   \n",
       "1907                                   NaN   \n",
       "1119  spotify:album:3HNnxK7NgLXbDoxRZxNWiR   \n",
       "1152  spotify:album:7cwcyW39NGUAiukHc1MOFD   \n",
       "1081  spotify:album:4otkd9As6YaxxEkIjXPiZ6   \n",
       "\n",
       "                                 uri_track valence  labels  \n",
       "1904  spotify:track:0EtirusGt3LivUmALXSMVe   0.776       0  \n",
       "1907  spotify:track:3guazByz82uD2zHf8q7As1   0.353       3  \n",
       "1119  spotify:track:0evt4UZbdhnHtcAnxkm6A1   0.803       0  \n",
       "1152  spotify:track:2tQnJFGS1YXhXJulEHR43p   0.731       0  \n",
       "1081  spotify:track:7Dj2wqPYXfSRFwa6qyOztr   0.595       0  \n",
       "\n",
       "[5 rows x 31 columns]"
      ]
     },
     "execution_count": 110,
     "metadata": {},
     "output_type": "execute_result"
    }
   ],
   "source": [
    "final_df.head()"
   ]
  },
  {
   "cell_type": "code",
   "execution_count": 111,
   "metadata": {},
   "outputs": [
    {
     "data": {
      "text/plain": [
       "<matplotlib.axes._subplots.AxesSubplot at 0x11daba1d0>"
      ]
     },
     "execution_count": 111,
     "metadata": {},
     "output_type": "execute_result"
    },
    {
     "data": {
      "image/png": "[encoded data removed]",
      "text/plain": [
       "<Figure size 1080x216 with 1 Axes>"
      ]
     },
     "metadata": {
      "image/png": {
       "height": 298,
       "width": 871
      }
     },
     "output_type": "display_data"
    }
   ],
   "source": [
    "final_df.groupby('labels')['artist'].value_counts().plot.bar()"
   ]
  },
  {
   "cell_type": "code",
   "execution_count": 112,
   "metadata": {},
   "outputs": [
    {
     "data": {
      "text/plain": [
       "Michael Jackson    150\n",
       "Eminem             150\n",
       "Rihanna            150\n",
       "Frank Sinatra      150\n",
       "The Beatles        150\n",
       "Name: artist, dtype: int64"
      ]
     },
     "execution_count": 112,
     "metadata": {},
     "output_type": "execute_result"
    }
   ],
   "source": [
    "final_df['artist'].value_counts()"
   ]
  },
  {
   "cell_type": "code",
   "execution_count": null,
   "metadata": {},
   "outputs": [],
   "source": []
  },
  {
   "cell_type": "code",
   "execution_count": 82,
   "metadata": {},
   "outputs": [
    {
     "data": {
      "text/plain": [
       "<matplotlib.axes._subplots.AxesSubplot at 0x11e499c18>"
      ]
     },
     "execution_count": 82,
     "metadata": {},
     "output_type": "execute_result"
    },
    {
     "data": {
      "image/png": "[encoded data removed]",
      "text/plain": [
       "<Figure size 1080x216 with 1 Axes>"
      ]
     },
     "metadata": {
      "image/png": {
       "height": 204,
       "width": 874
      }
     },
     "output_type": "display_data"
    }
   ],
   "source": [
    "final_df.groupby('labels')[musical_features].mean().plot.bar()"
   ]
  },
  {
   "cell_type": "code",
   "execution_count": 58,
   "metadata": {},
   "outputs": [
    {
     "data": {
      "text/plain": [
       "labels       \n",
       "0       like     1091\n",
       "        get       906\n",
       "        yeah      877\n",
       "        oh        854\n",
       "        love      803\n",
       "        know      788\n",
       "        got       770\n",
       "        baby      664\n",
       "        cause     660\n",
       "        go        609\n",
       "1       love      257\n",
       "        know      150\n",
       "        oh        124\n",
       "        never     116\n",
       "        let       115\n",
       "        like      113\n",
       "        get        99\n",
       "        go         98\n",
       "        night      95\n",
       "        day        95\n",
       "2       love      632\n",
       "        yeah      386\n",
       "        know      315\n",
       "        like      303\n",
       "        let       303\n",
       "        one       250\n",
       "        get       247\n",
       "        baby      244\n",
       "        oh        227\n",
       "        got       226\n",
       "3       love      279\n",
       "        know      208\n",
       "        one       202\n",
       "        never     140\n",
       "        day       139\n",
       "        like      128\n",
       "        time      127\n",
       "        heart     127\n",
       "        let       122\n",
       "        night     121\n",
       "4       like     1013\n",
       "        yeah      814\n",
       "        get       717\n",
       "        know      709\n",
       "        love      663\n",
       "        oh        653\n",
       "        cause     615\n",
       "        got       609\n",
       "        baby      505\n",
       "        come      440\n",
       "Name: lyrics_clean, dtype: int64"
      ]
     },
     "execution_count": 58,
     "metadata": {},
     "output_type": "execute_result"
    }
   ],
   "source": [
    "import texthero as hero\n",
    "final_df['lyrics_clean'] = hero.clean(final_df['lyrics'])\n",
    "\n",
    "final_df.groupby('labels')['lyrics_clean'].apply(lambda g: hero.top_words(g)[:10])"
   ]
  },
  {
   "cell_type": "code",
   "execution_count": 59,
   "metadata": {},
   "outputs": [
    {
     "data": {
      "text/plain": [
       "name_album\n",
       "1 (Remastered)                       5\n",
       "A Girl Like Me                       5\n",
       "ANTI (Deluxe)                        5\n",
       "Abbey Road (Remastered)              5\n",
       "Abbey Road (Super Deluxe Edition)    5\n",
       "                                    ..\n",
       "Vegas (Live)                         3\n",
       "World On A String (Live)             4\n",
       "XSCAPE                               3\n",
       "Yellow Submarine (Remastered)        4\n",
       "Yellow Submarine Songtrack           4\n",
       "Name: labels, Length: 75, dtype: int64"
      ]
     },
     "execution_count": 59,
     "metadata": {},
     "output_type": "execute_result"
    }
   ],
   "source": [
    "final_df.groupby('name_album')['labels'].apply(lambda g: len(g.unique()))"
   ]
  },
  {
   "cell_type": "code",
   "execution_count": 91,
   "metadata": {},
   "outputs": [
    {
     "data": {
      "image/png": "[encoded data removed]",
      "text/plain": [
       "<Figure size 1080x216 with 1 Axes>"
      ]
     },
     "metadata": {
      "image/png": {
       "height": 248,
       "width": 874
      }
     },
     "output_type": "display_data"
    }
   ],
   "source": [
    "x = final_df.groupby('artist')[musical_features].mean().T.plot.bar()"
   ]
  },
  {
   "cell_type": "code",
   "execution_count": 67,
   "metadata": {},
   "outputs": [
    {
     "data": {
      "text/plain": [
       "<matplotlib.axes._subplots.AxesSubplot at 0x11e388c18>"
      ]
     },
     "execution_count": 67,
     "metadata": {},
     "output_type": "execute_result"
    },
    {
     "data": {
      "image/png": "[encoded data removed]",
      "text/plain": [
       "<Figure size 1080x216 with 1 Axes>"
      ]
     },
     "metadata": {
      "image/png": {
       "height": 197,
       "width": 877
      }
     },
     "output_type": "display_data"
    }
   ],
   "source": [
    "final_df['loudness'].hist()"
   ]
  }
 ],
 "metadata": {
  "kernelspec": {
   "display_name": "Python 3",
   "language": "python",
   "name": "python3"
  },
  "language_info": {
   "codemirror_mode": {
    "name": "ipython",
    "version": 3
   },
   "file_extension": ".py",
   "mimetype": "text/x-python",
   "name": "python",
   "nbconvert_exporter": "python",
   "pygments_lexer": "ipython3",
   "version": "3.6.3"
  }
 },
 "nbformat": 4,
 "nbformat_minor": 2
}
