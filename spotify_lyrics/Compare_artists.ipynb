{
 "cells": [
  {
   "cell_type": "code",
   "execution_count": 47,
   "metadata": {},
   "outputs": [],
   "source": [
    "import pandas as pd\n",
    "import spotipy\n",
    "from spotipy.oauth2 import SpotifyClientCredentials\n",
    "token = spotipy.util.prompt_for_user_token('Julien Salomon',\n",
    "                           client_id='3f0268c00c604e70aace4982367723c7',\n",
    "                           client_secret='c9a4a4f2699642c795cb82595c2c8035',\n",
    "                            redirect_uri='http://localhost:8888')\n",
    "spotify = spotipy.Spotify(auth=token)\n",
    "spotify.trace = False # turn on tracing\n",
    "spotify.trace_out = False # turn on trace out"
   ]
  },
  {
   "cell_type": "code",
   "execution_count": 48,
   "metadata": {},
   "outputs": [
    {
     "name": "stderr",
     "output_type": "stream",
     "text": [
      "/Users/jsalomon/Anaconda3/lib/python3.7/site-packages/pandas/core/frame.py:3494: SettingWithCopyWarning: \n",
      "A value is trying to be set on a copy of a slice from a DataFrame.\n",
      "Try using .loc[row_indexer,col_indexer] = value instead\n",
      "\n",
      "See the caveats in the documentation: http://pandas.pydata.org/pandas-docs/stable/user_guide/indexing.html#returning-a-view-versus-a-copy\n",
      "  self[k1] = value[k2]\n"
     ]
    },
    {
     "data": {
      "text/html": [
       "<div>\n",
       "<style scoped>\n",
       "    .dataframe tbody tr th:only-of-type {\n",
       "        vertical-align: middle;\n",
       "    }\n",
       "\n",
       "    .dataframe tbody tr th {\n",
       "        vertical-align: top;\n",
       "    }\n",
       "\n",
       "    .dataframe thead th {\n",
       "        text-align: right;\n",
       "    }\n",
       "</style>\n",
       "<table border=\"1\" class=\"dataframe\">\n",
       "  <thead>\n",
       "    <tr style=\"text-align: right;\">\n",
       "      <th></th>\n",
       "      <th>artist</th>\n",
       "      <th>name_track</th>\n",
       "      <th>name_album</th>\n",
       "      <th>acousticness</th>\n",
       "      <th>danceability</th>\n",
       "      <th>energy</th>\n",
       "      <th>loudness</th>\n",
       "      <th>tempo</th>\n",
       "      <th>valence</th>\n",
       "    </tr>\n",
       "  </thead>\n",
       "  <tbody>\n",
       "    <tr>\n",
       "      <td>0</td>\n",
       "      <td>Frank Sinatra</td>\n",
       "      <td>Nice 'N' Easy - Remastered</td>\n",
       "      <td>Sinatra Sings Alan &amp; Marilyn Bergman</td>\n",
       "      <td>0.881288</td>\n",
       "      <td>0.497404</td>\n",
       "      <td>0.224261</td>\n",
       "      <td>0.397076</td>\n",
       "      <td>0.525406</td>\n",
       "      <td>0.480612</td>\n",
       "    </tr>\n",
       "    <tr>\n",
       "      <td>1</td>\n",
       "      <td>Frank Sinatra</td>\n",
       "      <td>Ol' Macdonald</td>\n",
       "      <td>Sinatra Sings Alan &amp; Marilyn Bergman</td>\n",
       "      <td>0.742455</td>\n",
       "      <td>0.631360</td>\n",
       "      <td>0.414883</td>\n",
       "      <td>0.311886</td>\n",
       "      <td>0.405033</td>\n",
       "      <td>0.744898</td>\n",
       "    </tr>\n",
       "    <tr>\n",
       "      <td>2</td>\n",
       "      <td>Frank Sinatra</td>\n",
       "      <td>Sentimental Baby</td>\n",
       "      <td>Sinatra Sings Alan &amp; Marilyn Bergman</td>\n",
       "      <td>0.904427</td>\n",
       "      <td>0.301142</td>\n",
       "      <td>0.148828</td>\n",
       "      <td>0.509874</td>\n",
       "      <td>0.393315</td>\n",
       "      <td>0.290816</td>\n",
       "    </tr>\n",
       "    <tr>\n",
       "      <td>3</td>\n",
       "      <td>Frank Sinatra</td>\n",
       "      <td>Love Looks So Well On You</td>\n",
       "      <td>Sinatra Sings Alan &amp; Marilyn Bergman</td>\n",
       "      <td>0.906439</td>\n",
       "      <td>0.210800</td>\n",
       "      <td>0.292559</td>\n",
       "      <td>0.364372</td>\n",
       "      <td>0.408479</td>\n",
       "      <td>0.205102</td>\n",
       "    </tr>\n",
       "    <tr>\n",
       "      <td>4</td>\n",
       "      <td>Frank Sinatra</td>\n",
       "      <td>Sleep Warm</td>\n",
       "      <td>Sinatra Sings Alan &amp; Marilyn Bergman</td>\n",
       "      <td>0.934608</td>\n",
       "      <td>0.151610</td>\n",
       "      <td>0.177370</td>\n",
       "      <td>0.521930</td>\n",
       "      <td>0.420585</td>\n",
       "      <td>0.141837</td>\n",
       "    </tr>\n",
       "    <tr>\n",
       "      <td>...</td>\n",
       "      <td>...</td>\n",
       "      <td>...</td>\n",
       "      <td>...</td>\n",
       "      <td>...</td>\n",
       "      <td>...</td>\n",
       "      <td>...</td>\n",
       "      <td>...</td>\n",
       "      <td>...</td>\n",
       "      <td>...</td>\n",
       "    </tr>\n",
       "    <tr>\n",
       "      <td>1939</td>\n",
       "      <td>Eminem</td>\n",
       "      <td>Curtains Up</td>\n",
       "      <td>Encore (Deluxe Version)</td>\n",
       "      <td>0.482897</td>\n",
       "      <td>0.317757</td>\n",
       "      <td>0.738022</td>\n",
       "      <td>0.642588</td>\n",
       "      <td>0.549235</td>\n",
       "      <td>0.027449</td>\n",
       "    </tr>\n",
       "    <tr>\n",
       "      <td>1940</td>\n",
       "      <td>Eminem</td>\n",
       "      <td>Encore/Curtains Down</td>\n",
       "      <td>Encore (Deluxe Version)</td>\n",
       "      <td>0.084306</td>\n",
       "      <td>0.628245</td>\n",
       "      <td>0.761468</td>\n",
       "      <td>0.202151</td>\n",
       "      <td>0.831339</td>\n",
       "      <td>0.576531</td>\n",
       "    </tr>\n",
       "    <tr>\n",
       "      <td>1941</td>\n",
       "      <td>Eminem</td>\n",
       "      <td>Curtains Close</td>\n",
       "      <td>The Eminem Show</td>\n",
       "      <td>0.521127</td>\n",
       "      <td>0.593977</td>\n",
       "      <td>0.419980</td>\n",
       "      <td>0.690046</td>\n",
       "      <td>0.474637</td>\n",
       "      <td>0.698980</td>\n",
       "    </tr>\n",
       "    <tr>\n",
       "      <td>1942</td>\n",
       "      <td>Eminem</td>\n",
       "      <td>Bitch</td>\n",
       "      <td>The Slim Shady LP (Expanded Edition)</td>\n",
       "      <td>0.995976</td>\n",
       "      <td>0.866044</td>\n",
       "      <td>0.349643</td>\n",
       "      <td>0.542878</td>\n",
       "      <td>0.464491</td>\n",
       "      <td>0.988776</td>\n",
       "    </tr>\n",
       "    <tr>\n",
       "      <td>1943</td>\n",
       "      <td>Eminem</td>\n",
       "      <td>Bad Guys Always Die - From \"Wild Wild West\" So...</td>\n",
       "      <td>The Slim Shady LP (Expanded Edition)</td>\n",
       "      <td>0.025050</td>\n",
       "      <td>0.749740</td>\n",
       "      <td>0.761468</td>\n",
       "      <td>0.132514</td>\n",
       "      <td>0.458158</td>\n",
       "      <td>0.350000</td>\n",
       "    </tr>\n",
       "  </tbody>\n",
       "</table>\n",
       "<p>1944 rows × 9 columns</p>\n",
       "</div>"
      ],
      "text/plain": [
       "             artist                                         name_track  \\\n",
       "0     Frank Sinatra                         Nice 'N' Easy - Remastered   \n",
       "1     Frank Sinatra                                      Ol' Macdonald   \n",
       "2     Frank Sinatra                                   Sentimental Baby   \n",
       "3     Frank Sinatra                          Love Looks So Well On You   \n",
       "4     Frank Sinatra                                         Sleep Warm   \n",
       "...             ...                                                ...   \n",
       "1939         Eminem                                        Curtains Up   \n",
       "1940         Eminem                               Encore/Curtains Down   \n",
       "1941         Eminem                                     Curtains Close   \n",
       "1942         Eminem                                              Bitch   \n",
       "1943         Eminem  Bad Guys Always Die - From \"Wild Wild West\" So...   \n",
       "\n",
       "                                name_album  acousticness  danceability  \\\n",
       "0     Sinatra Sings Alan & Marilyn Bergman      0.881288      0.497404   \n",
       "1     Sinatra Sings Alan & Marilyn Bergman      0.742455      0.631360   \n",
       "2     Sinatra Sings Alan & Marilyn Bergman      0.904427      0.301142   \n",
       "3     Sinatra Sings Alan & Marilyn Bergman      0.906439      0.210800   \n",
       "4     Sinatra Sings Alan & Marilyn Bergman      0.934608      0.151610   \n",
       "...                                    ...           ...           ...   \n",
       "1939               Encore (Deluxe Version)      0.482897      0.317757   \n",
       "1940               Encore (Deluxe Version)      0.084306      0.628245   \n",
       "1941                       The Eminem Show      0.521127      0.593977   \n",
       "1942  The Slim Shady LP (Expanded Edition)      0.995976      0.866044   \n",
       "1943  The Slim Shady LP (Expanded Edition)      0.025050      0.749740   \n",
       "\n",
       "        energy  loudness     tempo   valence  \n",
       "0     0.224261  0.397076  0.525406  0.480612  \n",
       "1     0.414883  0.311886  0.405033  0.744898  \n",
       "2     0.148828  0.509874  0.393315  0.290816  \n",
       "3     0.292559  0.364372  0.408479  0.205102  \n",
       "4     0.177370  0.521930  0.420585  0.141837  \n",
       "...        ...       ...       ...       ...  \n",
       "1939  0.738022  0.642588  0.549235  0.027449  \n",
       "1940  0.761468  0.202151  0.831339  0.576531  \n",
       "1941  0.419980  0.690046  0.474637  0.698980  \n",
       "1942  0.349643  0.542878  0.464491  0.988776  \n",
       "1943  0.761468  0.132514  0.458158  0.350000  \n",
       "\n",
       "[1944 rows x 9 columns]"
      ]
     },
     "execution_count": 48,
     "metadata": {},
     "output_type": "execute_result"
    }
   ],
   "source": [
    "all_songs = pd.read_csv('../data/final_df.csv')\n",
    "all_songs[['loudness']] =  0.496000 - all_songs[['loudness']]\n",
    "features = [\"acousticness\", \"danceability\",\"energy\",\"loudness\", \"tempo\",\"valence\"]\n",
    "normalized_songs = all_songs[['artist', 'name_track', 'name_album'] + features]\n",
    "normalized_songs[features] = normalized_songs[features] / all_songs[features].max()\n",
    "normalized_songs"
   ]
  },
  {
   "cell_type": "markdown",
   "metadata": {},
   "source": [
    "### Sinatra has recorded 2 Beatles songs"
   ]
  },
  {
   "cell_type": "code",
   "execution_count": 56,
   "metadata": {},
   "outputs": [],
   "source": [
    "yesterdays = normalized_songs[normalized_songs.name_track.str.contains(\"Yesterday - Remastered 2015\")]"
   ]
  },
  {
   "cell_type": "code",
   "execution_count": 57,
   "metadata": {},
   "outputs": [],
   "source": [
    "uris = [track['uri'] for track in spotify.album(spotify.search(\"My Way\", type=\"album\")['albums']['items'][2]['uri'])['tracks']['items']]"
   ]
  },
  {
   "cell_type": "code",
   "execution_count": 58,
   "metadata": {},
   "outputs": [
    {
     "name": "stdout",
     "output_type": "stream",
     "text": [
      "Watch What Happens\n",
      "Didn't We\n",
      "Hallelujah, I Love Her So\n",
      "Yesterday\n",
      "All My Tomorrows\n",
      "My Way\n",
      "A Day In The Life Of A Fool\n",
      "For Once In My Life\n",
      "If You Go Away\n",
      "Mrs. Robinson\n",
      "For Once In My Life - Rehearsal\n",
      "My Way - Live At The Reunion Arena/1987\n"
     ]
    }
   ],
   "source": [
    "for uri in uris:\n",
    "    print(spotify.track(uri)['name'])\n",
    "yesterday_uri = uris[3]"
   ]
  },
  {
   "cell_type": "code",
   "execution_count": 60,
   "metadata": {},
   "outputs": [],
   "source": [
    "sinatra_yesterday = spotify.audio_features(yesterday_uri)[0]\n",
    "sinatra_yesterday['artist'] = 'Frank Sinatra'\n",
    "sinatra_yesterday['name_track'] = 'Yesterday'\n",
    "sinatra_yesterday['loudness'] = 0.496000 - sinatra_yesterday['loudness']\n",
    "for feature in features:\n",
    "    sinatra_yesterday[feature] /= all_songs[feature].max()"
   ]
  },
  {
   "cell_type": "code",
   "execution_count": 61,
   "metadata": {},
   "outputs": [],
   "source": [
    "yesterdays = yesterdays.append(sinatra_yesterday, ignore_index=True).dropna(axis=1)"
   ]
  },
  {
   "cell_type": "code",
   "execution_count": 62,
   "metadata": {},
   "outputs": [
    {
     "name": "stderr",
     "output_type": "stream",
     "text": [
      "/Users/jsalomon/Anaconda3/lib/python3.7/site-packages/pandas/core/frame.py:7123: FutureWarning: Sorting because non-concatenation axis is not aligned. A future version\n",
      "of pandas will change to not sort by default.\n",
      "\n",
      "To accept the future behavior, pass 'sort=False'.\n",
      "\n",
      "To retain the current behavior and silence the warning, pass 'sort=True'.\n",
      "\n",
      "  sort=sort,\n"
     ]
    }
   ],
   "source": [
    "duo = yesterdays.append(normalized_songs[normalized_songs.name_track.str.contains(\"Something\")].iloc[[1,5]])\n",
    "duo = duo.dropna(axis=1)\n",
    "duo.name_track = duo.apply(lambda row: row['name_track'].replace(\" - Remastered 2015\", \"\"), axis=1)\n",
    "duo[duo.name_track == \"Yesterday\"][['artist'] + features].set_index('artist').transpose().reset_index().rename(columns={'index': 'group'}).to_csv(\"../data/yesterday_sin_eminem.csv\")\n",
    "duo[duo.name_track == \"Something\"][['artist'] + features].set_index('artist').transpose().reset_index().rename(columns={'index': 'group'}).to_csv(\"../data/something_sin_eminem.csv\")"
   ]
  },
  {
   "cell_type": "markdown",
   "metadata": {},
   "source": [
    "### Rihanna and Eminem did tracks together"
   ]
  },
  {
   "cell_type": "code",
   "execution_count": 13,
   "metadata": {},
   "outputs": [],
   "source": [
    "rihanna_eminem = normalized_songs[normalized_songs.name_track.str.contains(\"Love The Way\")].iloc[[1,4]]\n",
    "rihanna_eminem = rihanna_eminem.append(normalized_songs[normalized_songs.name_track.str.contains(\"The Monster\")].iloc[0])\n",
    "rihanna_eminem = rihanna_eminem.append(normalized_songs[normalized_songs.name_track.str.contains(\"Numb\")].iloc[0])"
   ]
  },
  {
   "cell_type": "code",
   "execution_count": 14,
   "metadata": {},
   "outputs": [],
   "source": [
    "rihanna_eminem.set_index('name_track')[features].transpose().reset_index().rename(columns={'index': 'group'}).to_csv('../data/rihanna-eminem.csv')"
   ]
  },
  {
   "cell_type": "markdown",
   "metadata": {},
   "source": [
    "### MJ and Sinatra ft Quincy Jones"
   ]
  },
  {
   "cell_type": "code",
   "execution_count": 15,
   "metadata": {},
   "outputs": [],
   "source": [
    "normalized_songs[normalized_songs.artist == 'Michael Jackson'].groupby('artist').mean().reset_index().append(normalized_songs[normalized_songs.name_track.str.contains('Just Lose')].iloc[0]).to_csv('mj-eminem.csv')#.plot.bar(figsize=(20,20))"
   ]
  },
  {
   "cell_type": "code",
   "execution_count": 16,
   "metadata": {},
   "outputs": [],
   "source": [
    "normalized_songs[normalized_songs.name_track.str.contains('Til You')].append(normalized_songs[normalized_songs.name_track.str.contains('Stop The Music')]).iloc[[0, 3]].to_csv('rihanna_mj.csv')"
   ]
  },
  {
   "cell_type": "code",
   "execution_count": 66,
   "metadata": {},
   "outputs": [],
   "source": [
    "mj_quincy = pd.DataFrame()\n",
    "mj_quincy['mean'] = normalized_songs[(normalized_songs.name_album == 'Off the Wall') | (normalized_songs.name_album == 'Thriller') | (normalized_songs.name_album == 'Bad (Remastered)')].mean()\n",
    "mj_quincy['std'] = normalized_songs[(normalized_songs.name_album == 'Off the Wall') | (normalized_songs.name_album == 'Thriller') | (normalized_songs.name_album == 'Bad (Remastered)')].std()\n",
    "mj_quincy['ci_ub'] = mj_quincy['mean'] + mj_quincy['std']\n",
    "mj_quincy['ci_lb'] = mj_quincy['mean'] - mj_quincy['std']\n",
    "mj_quincy.reset_index().rename(columns={'index':'group'}).to_csv(\"../data/mj_quincy.csv\")"
   ]
  },
  {
   "cell_type": "code",
   "execution_count": 67,
   "metadata": {},
   "outputs": [],
   "source": [
    "sinatra_quincy = pd.DataFrame()\n",
    "sinatra_quincy['mean'] = normalized_songs[normalized_songs.name_album.str.contains('L.A')].mean()\n",
    "sinatra_quincy['std'] = normalized_songs[normalized_songs.name_album.str.contains('L.A')].std()\n",
    "sinatra_quincy['ci_ub'] = sinatra_quincy['mean'] + sinatra_quincy['std']\n",
    "sinatra_quincy['ci_lb'] = sinatra_quincy['mean'] - sinatra_quincy['std']\n",
    "sinatra_quincy.rename(columns={'index':'group'}).to_csv(\"../data/sin_quincy.csv\")"
   ]
  },
  {
   "cell_type": "markdown",
   "metadata": {},
   "source": [
    "### Mean and STD for all artists"
   ]
  },
  {
   "cell_type": "code",
   "execution_count": 25,
   "metadata": {},
   "outputs": [],
   "source": [
    "features = [\"acousticness\", \"danceability\",\"energy\",\"loudness\", \"tempo\",\"valence\"]\n",
    "\n",
    "artists = normalized_songs.artist.unique()\n",
    "means = normalized_songs[['artist'] + features].groupby('artist').agg([\"mean\"])\n",
    "means.columns = means.columns.get_level_values(0)\n",
    "std = normalized_songs[['artist'] + features].groupby('artist').agg([\"std\"])\n",
    "std.columns = std.columns.get_level_values(0)\n",
    "var = normalized_songs[['artist'] + features].groupby('artist').agg([\"var\"])\n",
    "var.columns = var.columns.get_level_values(0)\n",
    "for artist in artists:\n",
    "    test = pd.DataFrame()\n",
    "    test['mean'] = means.loc[artist].transpose()\n",
    "    test['std'] = std.loc[artist].transpose()\n",
    "    test['var'] = var.loc[artist].transpose()\n",
    "    test['ci_ub'] = test['mean'] + test['std']\n",
    "    test['ci_lb'] = test['mean'] - test['std']\n",
    "    test.ci_ub = test.ci_ub.map(lambda ub: min(1, ub))\n",
    "    test.ci_lb = test.ci_lb.map(lambda lb: max(0, lb))\n",
    "    test.reset_index().rename(columns={'index':'group'}).to_csv(f'../data/{artist}_mean_std.csv')"
   ]
  },
  {
   "cell_type": "code",
   "execution_count": 26,
   "metadata": {},
   "outputs": [
    {
     "data": {
      "text/html": [
       "<div>\n",
       "<style scoped>\n",
       "    .dataframe tbody tr th:only-of-type {\n",
       "        vertical-align: middle;\n",
       "    }\n",
       "\n",
       "    .dataframe tbody tr th {\n",
       "        vertical-align: top;\n",
       "    }\n",
       "\n",
       "    .dataframe thead th {\n",
       "        text-align: right;\n",
       "    }\n",
       "</style>\n",
       "<table border=\"1\" class=\"dataframe\">\n",
       "  <thead>\n",
       "    <tr style=\"text-align: right;\">\n",
       "      <th></th>\n",
       "      <th>mean</th>\n",
       "      <th>std</th>\n",
       "      <th>var</th>\n",
       "      <th>ci_ub</th>\n",
       "      <th>ci_lb</th>\n",
       "    </tr>\n",
       "  </thead>\n",
       "  <tbody>\n",
       "    <tr>\n",
       "      <td>acousticness</td>\n",
       "      <td>0.179568</td>\n",
       "      <td>0.256644</td>\n",
       "      <td>0.065866</td>\n",
       "      <td>0.436212</td>\n",
       "      <td>0.000000</td>\n",
       "    </tr>\n",
       "    <tr>\n",
       "      <td>danceability</td>\n",
       "      <td>0.631123</td>\n",
       "      <td>0.137992</td>\n",
       "      <td>0.019042</td>\n",
       "      <td>0.769115</td>\n",
       "      <td>0.493132</td>\n",
       "    </tr>\n",
       "    <tr>\n",
       "      <td>energy</td>\n",
       "      <td>0.667394</td>\n",
       "      <td>0.169892</td>\n",
       "      <td>0.028863</td>\n",
       "      <td>0.837286</td>\n",
       "      <td>0.497502</td>\n",
       "    </tr>\n",
       "    <tr>\n",
       "      <td>loudness</td>\n",
       "      <td>0.219185</td>\n",
       "      <td>0.060253</td>\n",
       "      <td>0.003630</td>\n",
       "      <td>0.279437</td>\n",
       "      <td>0.158932</td>\n",
       "    </tr>\n",
       "    <tr>\n",
       "      <td>tempo</td>\n",
       "      <td>0.579054</td>\n",
       "      <td>0.141977</td>\n",
       "      <td>0.020157</td>\n",
       "      <td>0.721031</td>\n",
       "      <td>0.437077</td>\n",
       "    </tr>\n",
       "    <tr>\n",
       "      <td>valence</td>\n",
       "      <td>0.459274</td>\n",
       "      <td>0.227902</td>\n",
       "      <td>0.051939</td>\n",
       "      <td>0.687176</td>\n",
       "      <td>0.231372</td>\n",
       "    </tr>\n",
       "  </tbody>\n",
       "</table>\n",
       "</div>"
      ],
      "text/plain": [
       "                  mean       std       var     ci_ub     ci_lb\n",
       "acousticness  0.179568  0.256644  0.065866  0.436212  0.000000\n",
       "danceability  0.631123  0.137992  0.019042  0.769115  0.493132\n",
       "energy        0.667394  0.169892  0.028863  0.837286  0.497502\n",
       "loudness      0.219185  0.060253  0.003630  0.279437  0.158932\n",
       "tempo         0.579054  0.141977  0.020157  0.721031  0.437077\n",
       "valence       0.459274  0.227902  0.051939  0.687176  0.231372"
      ]
     },
     "execution_count": 26,
     "metadata": {},
     "output_type": "execute_result"
    }
   ],
   "source": [
    "test"
   ]
  },
  {
   "cell_type": "code",
   "execution_count": null,
   "metadata": {},
   "outputs": [],
   "source": []
  },
  {
   "cell_type": "code",
   "execution_count": null,
   "metadata": {},
   "outputs": [],
   "source": []
  }
 ],
 "metadata": {
  "kernelspec": {
   "display_name": "Python 3",
   "language": "python",
   "name": "python3"
  },
  "language_info": {
   "codemirror_mode": {
    "name": "ipython",
    "version": 3
   },
   "file_extension": ".py",
   "mimetype": "text/x-python",
   "name": "python",
   "nbconvert_exporter": "python",
   "pygments_lexer": "ipython3",
   "version": "3.7.4"
  }
 },
 "nbformat": 4,
 "nbformat_minor": 4
}
