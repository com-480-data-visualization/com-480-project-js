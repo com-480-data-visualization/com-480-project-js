{
 "cells": [
  {
   "cell_type": "code",
   "execution_count": 23,
   "metadata": {},
   "outputs": [],
   "source": [
    "import pandas as pd\n",
    "from ast import literal_eval"
   ]
  },
  {
   "cell_type": "code",
   "execution_count": 24,
   "metadata": {},
   "outputs": [],
   "source": [
    "artists = ['Frank Sinatra', 'The Beatles', 'Michael Jackson', 'Eminem', 'Rihanna']"
   ]
  },
  {
   "cell_type": "code",
   "execution_count": 25,
   "metadata": {},
   "outputs": [],
   "source": [
    "import re\n",
    "import unidecode\n",
    "\n",
    "def remove_superflous(text):\n",
    "    text = re.sub(r'\\([^)]*\\)', '', text).split('-')[0]\n",
    "    text = unidecode.unidecode(text)\n",
    "    text = text.lower().replace(\"'\", \"\").replace(\"’\", \"\")\\\n",
    "                        .replace(\"‘\",\"\").replace('/', '')\\\n",
    "                        .replace(\"\\\"\", \"\").replace(\".\",\"\")\\\n",
    "                        .replace(\"?\", \"\").replace(\"!\", \"\")\\\n",
    "                        .replace(\"&\", \"and\").replace(':','')\\\n",
    "                        .replace(\",\", \"\").replace('  ', ' ')\n",
    "    while text[0] == ' ':\n",
    "        text = text[1:]\n",
    "    while text[-1] == ' ':\n",
    "        text = text[:-1]\n",
    "\n",
    "    text = re.sub(r'\\d+$', '', text)\n",
    "    \n",
    "    return text.replace(' ', '_')\n",
    "                             \n",
    "#Load all lyrics\n",
    "lyrics = pd.read_csv('../data/full_lyrics_df.csv').drop('Unnamed: 0', axis=1)\n",
    "\n",
    "#Load all relevant musics\n",
    "music = pd.read_csv('../data/full_spotify_df.csv').drop('Unnamed: 0', axis=1)\n",
    "music.artists_album = music.artists_album.map(lambda artists: literal_eval(artists)[0]['name'])\n",
    "music = music[music.artists_album.isin(artists)]\n",
    "\n",
    "music['clean_title'] = music.name_track.map(lambda track: remove_superflous(track))\n",
    "lyrics['clean_title'] = lyrics.title.map(lambda title: remove_superflous(title) if title != '313' and title != '1999' else title)\n",
    "#MJ track Shoo-Be-Doo-Be-Doo-Da-Day gets changed for shoo in the clean title category; not a problem as there are no other Shoo songs\n",
    "\n",
    "music = music[~(music.clean_title.map(lambda title: title.lower()).str.contains('mix'))]\n",
    "music = music[~(music.name_album == 'XSCAPE - Track by Track Commentary')]\n",
    "music = music[~(music.name_track.map(lambda track: track.lower()).str.contains('mix'))]\n",
    "music = music[~(music.name_track.map(lambda track: track.lower()).str.contains('monologue'))]\n",
    "music = music[~(music.name_track.map(lambda track: track.lower()).str.contains('segment'))]\n",
    "music = music[~(music.name_track.map(lambda track: track.lower()).str.contains('announcement'))]\n",
    "music = music[~(music.name_track.map(lambda track: track.lower()).str.contains('presentation'))]\n",
    "music = music[~(music.name_track.map(lambda track: track.lower()).str.contains('medley'))]\n",
    "music = music[~(music.name_track.map(lambda track: track.lower()).str.contains('remarks'))]\n",
    "music = music[~(music.name_track.map(lambda track: track.lower()).str.contains('introduction'))]\n",
    "music = music[~(music.name_track.map(lambda track: track.lower()).str.contains('speak'))]\n",
    "music = music[~(music.name_track.map(lambda track: track.lower()).str.contains('welcome'))]\n",
    "music = music[~(music.name_track.map(lambda track: track.lower()).str.contains('skit'))]\n",
    "music = music[~(music.name_track.map(lambda track: track.lower()).str.contains('interview'))]\n",
    "music = music[~(music.name_track.map(lambda track: track.lower()).str.contains('excerpt'))]\n",
    "music = music[~(music.name_album == \"Selections From A Voice On Air (1935-1955)\")]\n",
    "\n",
    "music.loc[(music.clean_title.map(lambda title: title) == 'i_get_along_with_you_very_well'), 'clean_title'] = 'i_get_along_without_you_very_well'\n",
    "music.loc[(music.clean_title.map(lambda title: title) == 'lady_is_a_tramp'), 'clean_title'] = 'the_lady_is_a_tramp'\n",
    "music.loc[(music.clean_title.map(lambda title: title) == 'play_on_clarke_street'), 'clean_title'] = 'clarke_street'\n",
    "music.loc[(music.clean_title.map(lambda title: title) == 'play_off_the_tender_trap'), 'clean_title'] = 'the_tender_trap'\n",
    "music.loc[(music.clean_title.map(lambda title: title) == 'bows_the_tender_trap'), 'clean_title'] = 'the_tender_trap'\n",
    "music.loc[(music.clean_title.map(lambda title: title) == 'how_do_you_keep_the_music_playing_'), 'clean_title'] = 'how_do_you_keep_the_music_playing'\n",
    "\n",
    "music.loc[(music.name_track.map(lambda track: track.lower()).str.contains('\\*')), 'clean_title'] = 'asshole'\n",
    "\n",
    "\n",
    "lyrics = lyrics[~(lyrics.clean_title.map(lambda title: title.lower()).str.contains('mix'))]\n",
    "lyrics = lyrics.append(lyrics[(lyrics.clean_title == 'it_came_upon_the_midnight_clear')])\n",
    "lyrics.loc[lyrics.clean_title == 'it_came_upon_the_midnight_clear', 'clean_title'] = ['it_came_upon_the_midnight_clear', 'it_came_upon_a_midnight_clear']\n",
    "lyrics = lyrics.append(lyrics[(lyrics.clean_title == 'day_in')])\n",
    "lyrics.loc[lyrics.clean_title == 'day_in', 'clean_title'] = ['day_in', 'day_in_day_out']\n",
    "lyrics = lyrics.append(lyrics[(lyrics.clean_title == 'you_brought_a_new_kind_of_love_to_me')])\n",
    "lyrics.loc[lyrics.clean_title == 'you_brought_a_new_kind_of_love_to_me', 'clean_title'] = ['you_brought_a_new_kind_of_love_to_me', 'you_brought_a_new_kind_of_love']\n",
    "lyrics = lyrics.append(lyrics[(lyrics.clean_title == 'hey_look_no_crying')])\n",
    "lyrics.loc[lyrics.clean_title == 'hey_look_no_crying', 'clean_title'] = ['hey_look_no_crying', 'hey_look_no_cryin']\n",
    "lyrics.loc[lyrics.clean_title == 'one_hundred_years_from_today', 'clean_title'] = ['a_hundred_years_from_today']\n",
    "lyrics.loc[lyrics.clean_title == 'song_is_you', 'clean_title'] = ['the_song_is_you']\n",
    "lyrics.loc[lyrics.clean_title == 'when_im_sixty', 'clean_title'] = ['when_im_sixty_four', 'when_im_sixty', 'when_im_sixty']"
   ]
  },
  {
   "cell_type": "code",
   "execution_count": null,
   "metadata": {},
   "outputs": [],
   "source": []
  },
  {
   "cell_type": "code",
   "execution_count": 26,
   "metadata": {},
   "outputs": [
    {
     "data": {
      "text/plain": [
       "Index(['artist_id', 'artist_name', 'featured_artists', 'featured_video',\n",
       "       'full_title', 'header_image_thumbnail_url', 'header_image_url',\n",
       "       'lyrics', 'lyrics_state', 'release_date', 'release_date_for_display',\n",
       "       'song_art_image_thumbnail_url', 'song_art_image_url', 'title',\n",
       "       'title_with_featured', 'clean_title'],\n",
       "      dtype='object')"
      ]
     },
     "execution_count": 26,
     "metadata": {},
     "output_type": "execute_result"
    }
   ],
   "source": [
    "lyrics.columns"
   ]
  },
  {
   "cell_type": "code",
   "execution_count": 4,
   "metadata": {},
   "outputs": [
    {
     "data": {
      "text/plain": [
       "40"
      ]
     },
     "execution_count": 4,
     "metadata": {},
     "output_type": "execute_result"
    }
   ],
   "source": [
    "missing_titles = set(music.clean_title.unique()) - (set(music.clean_title.unique()) & (set(lyrics.clean_title.unique())))\n",
    "len(missing_titles)"
   ]
  },
  {
   "cell_type": "markdown",
   "metadata": {},
   "source": [
    "### Missing lyrics:\n",
    "\n",
    "- Leave it all to me - Sinatra\n",
    "- Hush-A-Bye Island - Sinatra\n",
    "- This Can't Be Love - Sinatra\n",
    "- Watching Me - MJ\n",
    "- Torture - MJ\n",
    "- Nice Guy - Eminem\n",
    "- When Joanna Loved Me - Sinatra\n",
    "### Others\n",
    "- Yellow Submarine: instrumentals\n",
    "- Live At The BBC (1 and 2): interviews\n",
    "- Trilogy: Past, Present...; live at meadowlands; Concierto;   : instrumental"
   ]
  },
  {
   "cell_type": "markdown",
   "metadata": {},
   "source": [
    "There are 110 songs in the music DF that find no match in the lyrics df."
   ]
  },
  {
   "cell_type": "markdown",
   "metadata": {},
   "source": [
    "### Merge"
   ]
  },
  {
   "cell_type": "code",
   "execution_count": 27,
   "metadata": {},
   "outputs": [],
   "source": [
    "lyrics = lyrics.drop_duplicates(subset='clean_title')[['clean_title', 'lyrics', 'lyrics_state']]"
   ]
  },
  {
   "cell_type": "code",
   "execution_count": 28,
   "metadata": {},
   "outputs": [
    {
     "data": {
      "text/html": [
       "<div>\n",
       "<style scoped>\n",
       "    .dataframe tbody tr th:only-of-type {\n",
       "        vertical-align: middle;\n",
       "    }\n",
       "\n",
       "    .dataframe tbody tr th {\n",
       "        vertical-align: top;\n",
       "    }\n",
       "\n",
       "    .dataframe thead th {\n",
       "        text-align: right;\n",
       "    }\n",
       "</style>\n",
       "<table border=\"1\" class=\"dataframe\">\n",
       "  <thead>\n",
       "    <tr style=\"text-align: right;\">\n",
       "      <th></th>\n",
       "      <th>Unnamed: 0.1</th>\n",
       "      <th>name_track</th>\n",
       "      <th>duration_ms</th>\n",
       "      <th>explicit</th>\n",
       "      <th>artists_track</th>\n",
       "      <th>artists_track_uri</th>\n",
       "      <th>featuring</th>\n",
       "      <th>track_number</th>\n",
       "      <th>disc_number</th>\n",
       "      <th>name_album</th>\n",
       "      <th>...</th>\n",
       "      <th>speechiness</th>\n",
       "      <th>acousticness</th>\n",
       "      <th>instrumentalness</th>\n",
       "      <th>liveness</th>\n",
       "      <th>valence</th>\n",
       "      <th>tempo</th>\n",
       "      <th>time_signature</th>\n",
       "      <th>clean_title</th>\n",
       "      <th>lyrics</th>\n",
       "      <th>lyrics_state</th>\n",
       "    </tr>\n",
       "  </thead>\n",
       "  <tbody>\n",
       "    <tr>\n",
       "      <td>0</td>\n",
       "      <td>0</td>\n",
       "      <td>Nice 'N' Easy - Remastered</td>\n",
       "      <td>165786</td>\n",
       "      <td>False</td>\n",
       "      <td>['Frank Sinatra']</td>\n",
       "      <td>['spotify:artist:1Mxqyy3pSjf8kZZL4QVxS0']</td>\n",
       "      <td>False</td>\n",
       "      <td>1</td>\n",
       "      <td>1</td>\n",
       "      <td>Sinatra Sings Alan &amp; Marilyn Bergman</td>\n",
       "      <td>...</td>\n",
       "      <td>0.0327</td>\n",
       "      <td>0.876</td>\n",
       "      <td>0.000000</td>\n",
       "      <td>0.111</td>\n",
       "      <td>0.471</td>\n",
       "      <td>109.937</td>\n",
       "      <td>4</td>\n",
       "      <td>nice_n_easy</td>\n",
       "      <td>Let's take it nice and easy\\nIt's gonna be so ...</td>\n",
       "      <td>complete</td>\n",
       "    </tr>\n",
       "    <tr>\n",
       "      <td>1</td>\n",
       "      <td>1</td>\n",
       "      <td>Ol' Macdonald</td>\n",
       "      <td>160306</td>\n",
       "      <td>False</td>\n",
       "      <td>['Frank Sinatra']</td>\n",
       "      <td>['spotify:artist:1Mxqyy3pSjf8kZZL4QVxS0']</td>\n",
       "      <td>False</td>\n",
       "      <td>2</td>\n",
       "      <td>1</td>\n",
       "      <td>Sinatra Sings Alan &amp; Marilyn Bergman</td>\n",
       "      <td>...</td>\n",
       "      <td>0.0375</td>\n",
       "      <td>0.738</td>\n",
       "      <td>0.000000</td>\n",
       "      <td>0.181</td>\n",
       "      <td>0.730</td>\n",
       "      <td>84.750</td>\n",
       "      <td>4</td>\n",
       "      <td>ol_macdonald</td>\n",
       "      <td>Ol' MacDonald had a farm, E-I-E-I-O\\nAnd on th...</td>\n",
       "      <td>complete</td>\n",
       "    </tr>\n",
       "    <tr>\n",
       "      <td>2</td>\n",
       "      <td>2</td>\n",
       "      <td>Sentimental Baby</td>\n",
       "      <td>156280</td>\n",
       "      <td>False</td>\n",
       "      <td>['Frank Sinatra']</td>\n",
       "      <td>['spotify:artist:1Mxqyy3pSjf8kZZL4QVxS0']</td>\n",
       "      <td>False</td>\n",
       "      <td>3</td>\n",
       "      <td>1</td>\n",
       "      <td>Sinatra Sings Alan &amp; Marilyn Bergman</td>\n",
       "      <td>...</td>\n",
       "      <td>0.0294</td>\n",
       "      <td>0.899</td>\n",
       "      <td>0.000501</td>\n",
       "      <td>0.169</td>\n",
       "      <td>0.285</td>\n",
       "      <td>82.298</td>\n",
       "      <td>3</td>\n",
       "      <td>sentimental_baby</td>\n",
       "      <td>Sentimental baby, sweet and gentle baby\\nJust ...</td>\n",
       "      <td>complete</td>\n",
       "    </tr>\n",
       "    <tr>\n",
       "      <td>3</td>\n",
       "      <td>3</td>\n",
       "      <td>Love Looks So Well On You</td>\n",
       "      <td>158893</td>\n",
       "      <td>False</td>\n",
       "      <td>['Frank Sinatra']</td>\n",
       "      <td>['spotify:artist:1Mxqyy3pSjf8kZZL4QVxS0']</td>\n",
       "      <td>False</td>\n",
       "      <td>4</td>\n",
       "      <td>1</td>\n",
       "      <td>Sinatra Sings Alan &amp; Marilyn Bergman</td>\n",
       "      <td>...</td>\n",
       "      <td>0.0317</td>\n",
       "      <td>0.901</td>\n",
       "      <td>0.000457</td>\n",
       "      <td>0.107</td>\n",
       "      <td>0.201</td>\n",
       "      <td>85.471</td>\n",
       "      <td>4</td>\n",
       "      <td>love_looks_so_well_on_you</td>\n",
       "      <td>Like moonlight looks on a country side, like a...</td>\n",
       "      <td>complete</td>\n",
       "    </tr>\n",
       "    <tr>\n",
       "      <td>4</td>\n",
       "      <td>4</td>\n",
       "      <td>Sleep Warm</td>\n",
       "      <td>166066</td>\n",
       "      <td>False</td>\n",
       "      <td>['Frank Sinatra']</td>\n",
       "      <td>['spotify:artist:1Mxqyy3pSjf8kZZL4QVxS0']</td>\n",
       "      <td>False</td>\n",
       "      <td>5</td>\n",
       "      <td>1</td>\n",
       "      <td>Sinatra Sings Alan &amp; Marilyn Bergman</td>\n",
       "      <td>...</td>\n",
       "      <td>0.0320</td>\n",
       "      <td>0.929</td>\n",
       "      <td>0.014200</td>\n",
       "      <td>0.110</td>\n",
       "      <td>0.139</td>\n",
       "      <td>88.004</td>\n",
       "      <td>5</td>\n",
       "      <td>sleep_warm</td>\n",
       "      <td>Sleep warm, sleep tight, when you turn off the...</td>\n",
       "      <td>complete</td>\n",
       "    </tr>\n",
       "  </tbody>\n",
       "</table>\n",
       "<p>5 rows × 29 columns</p>\n",
       "</div>"
      ],
      "text/plain": [
       "   Unnamed: 0.1                  name_track  duration_ms  explicit  \\\n",
       "0             0  Nice 'N' Easy - Remastered       165786     False   \n",
       "1             1               Ol' Macdonald       160306     False   \n",
       "2             2            Sentimental Baby       156280     False   \n",
       "3             3   Love Looks So Well On You       158893     False   \n",
       "4             4                  Sleep Warm       166066     False   \n",
       "\n",
       "       artists_track                          artists_track_uri  featuring  \\\n",
       "0  ['Frank Sinatra']  ['spotify:artist:1Mxqyy3pSjf8kZZL4QVxS0']      False   \n",
       "1  ['Frank Sinatra']  ['spotify:artist:1Mxqyy3pSjf8kZZL4QVxS0']      False   \n",
       "2  ['Frank Sinatra']  ['spotify:artist:1Mxqyy3pSjf8kZZL4QVxS0']      False   \n",
       "3  ['Frank Sinatra']  ['spotify:artist:1Mxqyy3pSjf8kZZL4QVxS0']      False   \n",
       "4  ['Frank Sinatra']  ['spotify:artist:1Mxqyy3pSjf8kZZL4QVxS0']      False   \n",
       "\n",
       "   track_number  disc_number                            name_album  ...  \\\n",
       "0             1            1  Sinatra Sings Alan & Marilyn Bergman  ...   \n",
       "1             2            1  Sinatra Sings Alan & Marilyn Bergman  ...   \n",
       "2             3            1  Sinatra Sings Alan & Marilyn Bergman  ...   \n",
       "3             4            1  Sinatra Sings Alan & Marilyn Bergman  ...   \n",
       "4             5            1  Sinatra Sings Alan & Marilyn Bergman  ...   \n",
       "\n",
       "  speechiness  acousticness instrumentalness liveness  valence    tempo  \\\n",
       "0      0.0327         0.876         0.000000    0.111    0.471  109.937   \n",
       "1      0.0375         0.738         0.000000    0.181    0.730   84.750   \n",
       "2      0.0294         0.899         0.000501    0.169    0.285   82.298   \n",
       "3      0.0317         0.901         0.000457    0.107    0.201   85.471   \n",
       "4      0.0320         0.929         0.014200    0.110    0.139   88.004   \n",
       "\n",
       "   time_signature                clean_title  \\\n",
       "0               4                nice_n_easy   \n",
       "1               4               ol_macdonald   \n",
       "2               3           sentimental_baby   \n",
       "3               4  love_looks_so_well_on_you   \n",
       "4               5                 sleep_warm   \n",
       "\n",
       "                                              lyrics  lyrics_state  \n",
       "0  Let's take it nice and easy\\nIt's gonna be so ...      complete  \n",
       "1  Ol' MacDonald had a farm, E-I-E-I-O\\nAnd on th...      complete  \n",
       "2  Sentimental baby, sweet and gentle baby\\nJust ...      complete  \n",
       "3  Like moonlight looks on a country side, like a...      complete  \n",
       "4  Sleep warm, sleep tight, when you turn off the...      complete  \n",
       "\n",
       "[5 rows x 29 columns]"
      ]
     },
     "execution_count": 28,
     "metadata": {},
     "output_type": "execute_result"
    }
   ],
   "source": [
    "full_df = music.merge(lyrics, how='left', on='clean_title')\n",
    "full_df.head()"
   ]
  },
  {
   "cell_type": "code",
   "execution_count": 29,
   "metadata": {},
   "outputs": [],
   "source": [
    "#is_it_scary_lyrics = open('../processbook/missing_lyrics/is_it_scary.txt', 'r').read()\n",
    "watching_me_lyrics = open('missing_lyrics/watching_me.txt', 'r').read()\n",
    "torture_lyrics = open('missing_lyrics/torture.txt', 'r').read()\n",
    "leave_it_all_lyrics = open('missing_lyrics/leave_it_all.txt', 'r').read()\n",
    "hush_a_bye_lyrics = open('missing_lyrics/hush_a_bye.txt', 'r').read()\n",
    "this_cant_be_love_lyrics = open('missing_lyrics/this_cant_be_love.txt', 'r').read()\n",
    "nice_guy_lyrics = open('missing_lyrics/nice_guy.txt', 'r').read()\n",
    "joanna_love_lyrics = open('missing_lyrics/joanna_love.txt', 'r').read()\n",
    "you_da_one_lyrics = open('missing_lyrics/you_da_one.txt', 'r').read()"
   ]
  },
  {
   "cell_type": "code",
   "execution_count": 30,
   "metadata": {},
   "outputs": [],
   "source": [
    "full_df.loc[full_df.clean_title.str.contains('watching_me'), 'lyrics'] = watching_me_lyrics\n",
    "full_df.loc[full_df.clean_title.str.contains('torture'), 'lyrics'] = torture_lyrics\n",
    "full_df.loc[full_df.clean_title.str.contains('leave_it_all'), 'lyrics'] = leave_it_all_lyrics\n",
    "full_df.loc[full_df.clean_title == 'hush', 'lyrics'] = hush_a_bye_lyrics\n",
    "full_df.loc[full_df.clean_title == 'nice_guy', 'lyrics'] = nice_guy_lyrics\n",
    "full_df.loc[full_df.clean_title.str.contains('joanna'), 'lyrics'] = joanna_love_lyrics\n",
    "full_df.loc[full_df.clean_title.str.contains('this_cant'), 'lyrics'] = this_cant_be_love_lyrics\n",
    "full_df.loc[full_df.clean_title.str.contains('you_da_one'), 'lyrics'] = you_da_one_lyrics"
   ]
  },
  {
   "cell_type": "code",
   "execution_count": 35,
   "metadata": {},
   "outputs": [],
   "source": [
    "missing_lyrics = full_df[(full_df.drop('lyrics_state', axis=1).isnull().any(axis=1))][['name_track', 'name_album', 'artists_album']]"
   ]
  },
  {
   "cell_type": "code",
   "execution_count": 36,
   "metadata": {},
   "outputs": [],
   "source": [
    "full_df.to_csv('../data/spot_lyr_df.csv')"
   ]
  },
  {
   "cell_type": "code",
   "execution_count": 37,
   "metadata": {},
   "outputs": [],
   "source": [
    "missing_lyrics.to_csv('../data/missing_lyrics.csv')"
   ]
  },
  {
   "cell_type": "code",
   "execution_count": 38,
   "metadata": {},
   "outputs": [
    {
     "data": {
      "text/plain": [
       "name_track       96\n",
       "name_album       96\n",
       "artists_album    96\n",
       "dtype: int64"
      ]
     },
     "execution_count": 38,
     "metadata": {},
     "output_type": "execute_result"
    }
   ],
   "source": [
    "missing_lyrics.count()"
   ]
  },
  {
   "cell_type": "code",
   "execution_count": null,
   "metadata": {},
   "outputs": [],
   "source": []
  }
 ],
 "metadata": {
  "kernelspec": {
   "display_name": "Python 3",
   "language": "python",
   "name": "python3"
  },
  "language_info": {
   "codemirror_mode": {
    "name": "ipython",
    "version": 3
   },
   "file_extension": ".py",
   "mimetype": "text/x-python",
   "name": "python",
   "nbconvert_exporter": "python",
   "pygments_lexer": "ipython3",
   "version": "3.7.4"
  }
 },
 "nbformat": 4,
 "nbformat_minor": 4
}
